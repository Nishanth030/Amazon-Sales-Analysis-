{
 "cells": [
  {
   "cell_type": "markdown",
   "id": "2e5d00cc",
   "metadata": {},
   "source": [
    "# Data Understanding "
   ]
  },
  {
   "cell_type": "code",
   "execution_count": 30,
   "id": "84db8c47",
   "metadata": {},
   "outputs": [],
   "source": [
    "# Importing librarys\n",
    "\n",
    "import numpy as np\n",
    "import pandas as pd\n",
    "import missingno as msno\n",
    "import matplotlib.pyplot as plt\n",
    "import seaborn as sns"
   ]
  },
  {
   "cell_type": "code",
   "execution_count": 31,
   "id": "f9c782e6",
   "metadata": {},
   "outputs": [
    {
     "data": {
      "text/html": [
       "<div>\n",
       "<style scoped>\n",
       "    .dataframe tbody tr th:only-of-type {\n",
       "        vertical-align: middle;\n",
       "    }\n",
       "\n",
       "    .dataframe tbody tr th {\n",
       "        vertical-align: top;\n",
       "    }\n",
       "\n",
       "    .dataframe thead th {\n",
       "        text-align: right;\n",
       "    }\n",
       "</style>\n",
       "<table border=\"1\" class=\"dataframe\">\n",
       "  <thead>\n",
       "    <tr style=\"text-align: right;\">\n",
       "      <th></th>\n",
       "      <th>Order ID</th>\n",
       "      <th>Date</th>\n",
       "      <th>Status</th>\n",
       "      <th>Fulfilment</th>\n",
       "      <th>ship-service-level</th>\n",
       "      <th>Style</th>\n",
       "      <th>SKU</th>\n",
       "      <th>Category</th>\n",
       "      <th>Size</th>\n",
       "      <th>ASIN</th>\n",
       "      <th>...</th>\n",
       "      <th>currency</th>\n",
       "      <th>Amount</th>\n",
       "      <th>ship-city</th>\n",
       "      <th>ship-state</th>\n",
       "      <th>ship-postal-code</th>\n",
       "      <th>ship-country</th>\n",
       "      <th>promotion-ids</th>\n",
       "      <th>B2B</th>\n",
       "      <th>fulfilled-by</th>\n",
       "      <th>Unnamed: 22</th>\n",
       "    </tr>\n",
       "  </thead>\n",
       "  <tbody>\n",
       "    <tr>\n",
       "      <th>0</th>\n",
       "      <td>171-9198151-1101146</td>\n",
       "      <td>4/30/2022</td>\n",
       "      <td>Shipped - Delivered to Buyer</td>\n",
       "      <td>Merchant</td>\n",
       "      <td>Standard</td>\n",
       "      <td>JNE3781</td>\n",
       "      <td>JNE3781-KR-XXXL</td>\n",
       "      <td>kurta</td>\n",
       "      <td>3XL</td>\n",
       "      <td>B09K3WFS32</td>\n",
       "      <td>...</td>\n",
       "      <td>INR</td>\n",
       "      <td>406</td>\n",
       "      <td>BENGALURU</td>\n",
       "      <td>KARNATAKA</td>\n",
       "      <td>560085</td>\n",
       "      <td>IN</td>\n",
       "      <td>Amazon PLCC Free-Financing Universal Merchant ...</td>\n",
       "      <td>FALSE</td>\n",
       "      <td>Easy Ship</td>\n",
       "      <td>NaN</td>\n",
       "    </tr>\n",
       "    <tr>\n",
       "      <th>1</th>\n",
       "      <td>404-0687676-7273146</td>\n",
       "      <td>4/30/2022</td>\n",
       "      <td>Shipped</td>\n",
       "      <td>Amazon</td>\n",
       "      <td>Expedited</td>\n",
       "      <td>JNE3371</td>\n",
       "      <td>JNE3371-KR-XL</td>\n",
       "      <td>kurta</td>\n",
       "      <td>XL</td>\n",
       "      <td>B07WV4JV4D</td>\n",
       "      <td>...</td>\n",
       "      <td>INR</td>\n",
       "      <td>329</td>\n",
       "      <td>NAVI MUMBAI</td>\n",
       "      <td>MAHARASHTRA</td>\n",
       "      <td>410210</td>\n",
       "      <td>IN</td>\n",
       "      <td>IN Core Free Shipping 2015/04/08 23-48-5-108</td>\n",
       "      <td>TRUE</td>\n",
       "      <td>NaN</td>\n",
       "      <td>NaN</td>\n",
       "    </tr>\n",
       "    <tr>\n",
       "      <th>2</th>\n",
       "      <td>407-1069790-7240320</td>\n",
       "      <td>4/30/2022</td>\n",
       "      <td>Shipped</td>\n",
       "      <td>Amazon</td>\n",
       "      <td>Expedited</td>\n",
       "      <td>JNE3671</td>\n",
       "      <td>JNE3671-TU-XXXL</td>\n",
       "      <td>Top</td>\n",
       "      <td>3XL</td>\n",
       "      <td>B098714BZP</td>\n",
       "      <td>...</td>\n",
       "      <td>INR</td>\n",
       "      <td>574</td>\n",
       "      <td>CHENNAI</td>\n",
       "      <td>TAMIL NADU</td>\n",
       "      <td>600073</td>\n",
       "      <td>IN</td>\n",
       "      <td>NaN</td>\n",
       "      <td>FALSE</td>\n",
       "      <td>NaN</td>\n",
       "      <td>NaN</td>\n",
       "    </tr>\n",
       "    <tr>\n",
       "      <th>3</th>\n",
       "      <td>404-1490984-4578765</td>\n",
       "      <td>4/30/2022</td>\n",
       "      <td>Shipped</td>\n",
       "      <td>Amazon</td>\n",
       "      <td>Expedited</td>\n",
       "      <td>SET264</td>\n",
       "      <td>SET264-KR-NP-XL</td>\n",
       "      <td>Set</td>\n",
       "      <td>XL</td>\n",
       "      <td>B08YN7XDSG</td>\n",
       "      <td>...</td>\n",
       "      <td>INR</td>\n",
       "      <td>824</td>\n",
       "      <td>GHAZIABAD</td>\n",
       "      <td>UTTAR PRADESH</td>\n",
       "      <td>201102</td>\n",
       "      <td>IN</td>\n",
       "      <td>IN Core Free Shipping 2015/04/08 23-48-5-108</td>\n",
       "      <td>FALSE</td>\n",
       "      <td>NaN</td>\n",
       "      <td>NaN</td>\n",
       "    </tr>\n",
       "    <tr>\n",
       "      <th>4</th>\n",
       "      <td>408-5748499-6859555</td>\n",
       "      <td>4/30/2022</td>\n",
       "      <td>Shipped</td>\n",
       "      <td>Amazon</td>\n",
       "      <td>Expedited</td>\n",
       "      <td>J0095</td>\n",
       "      <td>J0095-SET-L</td>\n",
       "      <td>Set</td>\n",
       "      <td>L</td>\n",
       "      <td>B08CMHNWBN</td>\n",
       "      <td>...</td>\n",
       "      <td>INR</td>\n",
       "      <td>653</td>\n",
       "      <td>CHANDIGARH</td>\n",
       "      <td>CHANDIGARH</td>\n",
       "      <td>160036</td>\n",
       "      <td>IN</td>\n",
       "      <td>IN Core Free Shipping 2015/04/08 23-48-5-108</td>\n",
       "      <td>FALSE</td>\n",
       "      <td>NaN</td>\n",
       "      <td>NaN</td>\n",
       "    </tr>\n",
       "    <tr>\n",
       "      <th>...</th>\n",
       "      <td>...</td>\n",
       "      <td>...</td>\n",
       "      <td>...</td>\n",
       "      <td>...</td>\n",
       "      <td>...</td>\n",
       "      <td>...</td>\n",
       "      <td>...</td>\n",
       "      <td>...</td>\n",
       "      <td>...</td>\n",
       "      <td>...</td>\n",
       "      <td>...</td>\n",
       "      <td>...</td>\n",
       "      <td>...</td>\n",
       "      <td>...</td>\n",
       "      <td>...</td>\n",
       "      <td>...</td>\n",
       "      <td>...</td>\n",
       "      <td>...</td>\n",
       "      <td>...</td>\n",
       "      <td>...</td>\n",
       "      <td>...</td>\n",
       "    </tr>\n",
       "    <tr>\n",
       "      <th>113509</th>\n",
       "      <td>406-6001380-7673107</td>\n",
       "      <td>5/31/2022</td>\n",
       "      <td>Shipped</td>\n",
       "      <td>Amazon</td>\n",
       "      <td>Expedited</td>\n",
       "      <td>JNE3697</td>\n",
       "      <td>JNE3697-KR-XL</td>\n",
       "      <td>kurta</td>\n",
       "      <td>XL</td>\n",
       "      <td>B098112V2V</td>\n",
       "      <td>...</td>\n",
       "      <td>INR</td>\n",
       "      <td>517</td>\n",
       "      <td>HYDERABAD</td>\n",
       "      <td>TELANGANA</td>\n",
       "      <td>500013</td>\n",
       "      <td>IN</td>\n",
       "      <td>NaN</td>\n",
       "      <td>FALSE</td>\n",
       "      <td>NaN</td>\n",
       "      <td>FALSE</td>\n",
       "    </tr>\n",
       "    <tr>\n",
       "      <th>113510</th>\n",
       "      <td>402-9551604-7544318</td>\n",
       "      <td>5/31/2022</td>\n",
       "      <td>Shipped</td>\n",
       "      <td>Amazon</td>\n",
       "      <td>Expedited</td>\n",
       "      <td>SET401</td>\n",
       "      <td>SET401-KR-NP-M</td>\n",
       "      <td>Set</td>\n",
       "      <td>M</td>\n",
       "      <td>B09VC6KHX8</td>\n",
       "      <td>...</td>\n",
       "      <td>INR</td>\n",
       "      <td>999</td>\n",
       "      <td>GURUGRAM</td>\n",
       "      <td>HARYANA</td>\n",
       "      <td>122004</td>\n",
       "      <td>IN</td>\n",
       "      <td>IN Core Free Shipping 2015/04/08 23-48-5-108</td>\n",
       "      <td>FALSE</td>\n",
       "      <td>NaN</td>\n",
       "      <td>FALSE</td>\n",
       "    </tr>\n",
       "    <tr>\n",
       "      <th>113511</th>\n",
       "      <td>407-9547469-3152358</td>\n",
       "      <td>5/31/2022</td>\n",
       "      <td>Shipped</td>\n",
       "      <td>Amazon</td>\n",
       "      <td>Expedited</td>\n",
       "      <td>J0157</td>\n",
       "      <td>J0157-DR-XXL</td>\n",
       "      <td>Western Dress</td>\n",
       "      <td>XXL</td>\n",
       "      <td>B0982YZ51B</td>\n",
       "      <td>...</td>\n",
       "      <td>INR</td>\n",
       "      <td>690</td>\n",
       "      <td>HYDERABAD</td>\n",
       "      <td>TELANGANA</td>\n",
       "      <td>500049</td>\n",
       "      <td>IN</td>\n",
       "      <td>NaN</td>\n",
       "      <td>FALSE</td>\n",
       "      <td>NaN</td>\n",
       "      <td>FALSE</td>\n",
       "    </tr>\n",
       "    <tr>\n",
       "      <th>113512</th>\n",
       "      <td>402-6184140-0545956</td>\n",
       "      <td>5/31/2022</td>\n",
       "      <td>Shipped</td>\n",
       "      <td>Amazon</td>\n",
       "      <td>Expedited</td>\n",
       "      <td>J0012</td>\n",
       "      <td>J0012-SKD-XS</td>\n",
       "      <td>Set</td>\n",
       "      <td>XS</td>\n",
       "      <td>B0894Y2NJQ</td>\n",
       "      <td>...</td>\n",
       "      <td>INR</td>\n",
       "      <td>1199</td>\n",
       "      <td>Halol</td>\n",
       "      <td>Gujarat</td>\n",
       "      <td>389350</td>\n",
       "      <td>IN</td>\n",
       "      <td>IN Core Free Shipping 2015/04/08 23-48-5-108</td>\n",
       "      <td>FALSE</td>\n",
       "      <td>NaN</td>\n",
       "      <td>FALSE</td>\n",
       "    </tr>\n",
       "    <tr>\n",
       "      <th>113513</th>\n",
       "      <td>408-7436540-8728312</td>\n",
       "      <td>5/31/2022</td>\n",
       "      <td>Shipped</td>\n",
       "      <td>Amazon</td>\n",
       "      <td>Expedited</td>\n",
       "      <td>J0003</td>\n",
       "      <td>J0003-SET-S</td>\n",
       "      <td>Set</td>\n",
       "      <td>S</td>\n",
       "      <td>B0894X27FC</td>\n",
       "      <td>...</td>\n",
       "      <td>INR</td>\n",
       "      <td>696</td>\n",
       "      <td>Raipur</td>\n",
       "      <td>CHHATTISGARH</td>\n",
       "      <td>492014</td>\n",
       "      <td>IN</td>\n",
       "      <td>IN Core Free Shipping 2015/04/08 23-48-5-108</td>\n",
       "      <td>FALSE</td>\n",
       "      <td>NaN</td>\n",
       "      <td>FALSE</td>\n",
       "    </tr>\n",
       "  </tbody>\n",
       "</table>\n",
       "<p>113514 rows × 22 columns</p>\n",
       "</div>"
      ],
      "text/plain": [
       "                   Order ID       Date                        Status  \\\n",
       "0       171-9198151-1101146  4/30/2022  Shipped - Delivered to Buyer   \n",
       "1       404-0687676-7273146  4/30/2022                       Shipped   \n",
       "2       407-1069790-7240320  4/30/2022                       Shipped   \n",
       "3       404-1490984-4578765  4/30/2022                       Shipped   \n",
       "4       408-5748499-6859555  4/30/2022                       Shipped   \n",
       "...                     ...        ...                           ...   \n",
       "113509  406-6001380-7673107  5/31/2022                       Shipped   \n",
       "113510  402-9551604-7544318  5/31/2022                       Shipped   \n",
       "113511  407-9547469-3152358  5/31/2022                       Shipped   \n",
       "113512  402-6184140-0545956  5/31/2022                       Shipped   \n",
       "113513  408-7436540-8728312  5/31/2022                       Shipped   \n",
       "\n",
       "       Fulfilment ship-service-level    Style              SKU       Category  \\\n",
       "0        Merchant           Standard  JNE3781  JNE3781-KR-XXXL          kurta   \n",
       "1          Amazon          Expedited  JNE3371    JNE3371-KR-XL          kurta   \n",
       "2          Amazon          Expedited  JNE3671  JNE3671-TU-XXXL            Top   \n",
       "3          Amazon          Expedited   SET264  SET264-KR-NP-XL            Set   \n",
       "4          Amazon          Expedited    J0095      J0095-SET-L            Set   \n",
       "...           ...                ...      ...              ...            ...   \n",
       "113509     Amazon          Expedited  JNE3697    JNE3697-KR-XL          kurta   \n",
       "113510     Amazon          Expedited   SET401   SET401-KR-NP-M            Set   \n",
       "113511     Amazon          Expedited    J0157     J0157-DR-XXL  Western Dress   \n",
       "113512     Amazon          Expedited    J0012     J0012-SKD-XS            Set   \n",
       "113513     Amazon          Expedited    J0003      J0003-SET-S            Set   \n",
       "\n",
       "       Size        ASIN  ... currency Amount    ship-city     ship-state  \\\n",
       "0       3XL  B09K3WFS32  ...      INR    406    BENGALURU      KARNATAKA   \n",
       "1        XL  B07WV4JV4D  ...      INR    329  NAVI MUMBAI    MAHARASHTRA   \n",
       "2       3XL  B098714BZP  ...      INR    574      CHENNAI     TAMIL NADU   \n",
       "3        XL  B08YN7XDSG  ...      INR    824    GHAZIABAD  UTTAR PRADESH   \n",
       "4         L  B08CMHNWBN  ...      INR    653   CHANDIGARH     CHANDIGARH   \n",
       "...     ...         ...  ...      ...    ...          ...            ...   \n",
       "113509   XL  B098112V2V  ...      INR    517    HYDERABAD      TELANGANA   \n",
       "113510    M  B09VC6KHX8  ...      INR    999     GURUGRAM        HARYANA   \n",
       "113511  XXL  B0982YZ51B  ...      INR    690    HYDERABAD      TELANGANA   \n",
       "113512   XS  B0894Y2NJQ  ...      INR   1199        Halol        Gujarat   \n",
       "113513    S  B0894X27FC  ...      INR    696       Raipur   CHHATTISGARH   \n",
       "\n",
       "       ship-postal-code ship-country  \\\n",
       "0                560085           IN   \n",
       "1                410210           IN   \n",
       "2                600073           IN   \n",
       "3                201102           IN   \n",
       "4                160036           IN   \n",
       "...                 ...          ...   \n",
       "113509           500013           IN   \n",
       "113510           122004           IN   \n",
       "113511           500049           IN   \n",
       "113512           389350           IN   \n",
       "113513           492014           IN   \n",
       "\n",
       "                                            promotion-ids    B2B fulfilled-by  \\\n",
       "0       Amazon PLCC Free-Financing Universal Merchant ...  FALSE    Easy Ship   \n",
       "1            IN Core Free Shipping 2015/04/08 23-48-5-108   TRUE          NaN   \n",
       "2                                                     NaN  FALSE          NaN   \n",
       "3            IN Core Free Shipping 2015/04/08 23-48-5-108  FALSE          NaN   \n",
       "4            IN Core Free Shipping 2015/04/08 23-48-5-108  FALSE          NaN   \n",
       "...                                                   ...    ...          ...   \n",
       "113509                                                NaN  FALSE          NaN   \n",
       "113510       IN Core Free Shipping 2015/04/08 23-48-5-108  FALSE          NaN   \n",
       "113511                                                NaN  FALSE          NaN   \n",
       "113512       IN Core Free Shipping 2015/04/08 23-48-5-108  FALSE          NaN   \n",
       "113513       IN Core Free Shipping 2015/04/08 23-48-5-108  FALSE          NaN   \n",
       "\n",
       "       Unnamed: 22  \n",
       "0              NaN  \n",
       "1              NaN  \n",
       "2              NaN  \n",
       "3              NaN  \n",
       "4              NaN  \n",
       "...            ...  \n",
       "113509       FALSE  \n",
       "113510       FALSE  \n",
       "113511       FALSE  \n",
       "113512       FALSE  \n",
       "113513       FALSE  \n",
       "\n",
       "[113514 rows x 22 columns]"
      ]
     },
     "execution_count": 31,
     "metadata": {},
     "output_type": "execute_result"
    }
   ],
   "source": [
    "# reading the csv file\n",
    "\n",
    "df=pd.read_csv(\"C:/Users/Admin/Desktop/Amazon/Amazon_Dataset.csv\",sep=',', index_col=False,\n",
    "               low_memory=False, dtype='unicode')\n",
    "df"
   ]
  },
  {
   "cell_type": "code",
   "execution_count": 32,
   "id": "384489e0",
   "metadata": {},
   "outputs": [
    {
     "name": "stdout",
     "output_type": "stream",
     "text": [
      "<class 'pandas.core.frame.DataFrame'>\n",
      "RangeIndex: 113514 entries, 0 to 113513\n",
      "Data columns (total 22 columns):\n",
      " #   Column              Non-Null Count   Dtype \n",
      "---  ------              --------------   ----- \n",
      " 0   Order ID            113514 non-null  object\n",
      " 1   Date                113514 non-null  object\n",
      " 2   Status              113514 non-null  object\n",
      " 3   Fulfilment          113514 non-null  object\n",
      " 4   ship-service-level  113514 non-null  object\n",
      " 5   Style               113514 non-null  object\n",
      " 6   SKU                 113514 non-null  object\n",
      " 7   Category            113514 non-null  object\n",
      " 8   Size                113514 non-null  object\n",
      " 9   ASIN                113514 non-null  object\n",
      " 10  Courier Status      113514 non-null  object\n",
      " 11  Qty                 113514 non-null  object\n",
      " 12  currency            113514 non-null  object\n",
      " 13  Amount              113514 non-null  object\n",
      " 14  ship-city           113514 non-null  object\n",
      " 15  ship-state          113514 non-null  object\n",
      " 16  ship-postal-code    113514 non-null  object\n",
      " 17  ship-country        113514 non-null  object\n",
      " 18  promotion-ids       78566 non-null   object\n",
      " 19  B2B                 113514 non-null  object\n",
      " 20  fulfilled-by        31560 non-null   object\n",
      " 21  Unnamed: 22         70581 non-null   object\n",
      "dtypes: object(22)\n",
      "memory usage: 19.1+ MB\n"
     ]
    }
   ],
   "source": [
    "df.info()"
   ]
  },
  {
   "cell_type": "code",
   "execution_count": 33,
   "id": "24c12a15",
   "metadata": {},
   "outputs": [
    {
     "data": {
      "text/plain": [
       "Order ID              105781\n",
       "Date                      90\n",
       "Status                    12\n",
       "Fulfilment                 2\n",
       "ship-service-level         2\n",
       "Style                   1370\n",
       "SKU                     7112\n",
       "Category                   9\n",
       "Size                      11\n",
       "ASIN                    7108\n",
       "Courier Status             2\n",
       "Qty                        6\n",
       "currency                   1\n",
       "Amount                   865\n",
       "ship-city               8487\n",
       "ship-state                67\n",
       "ship-postal-code        9139\n",
       "ship-country               1\n",
       "promotion-ids           5722\n",
       "B2B                        2\n",
       "fulfilled-by               1\n",
       "Unnamed: 22                1\n",
       "dtype: int64"
      ]
     },
     "execution_count": 33,
     "metadata": {},
     "output_type": "execute_result"
    }
   ],
   "source": [
    "df.nunique()"
   ]
  },
  {
   "cell_type": "code",
   "execution_count": 34,
   "id": "8e3b0fea",
   "metadata": {},
   "outputs": [
    {
     "data": {
      "text/plain": [
       "Order ID              [171-9198151-1101146, 404-0687676-7273146, 407...\n",
       "Date                  [4/30/2022, 4/29/2022, 4/28/2022, 4/27/2022, 4...\n",
       "Status                [Shipped - Delivered to Buyer, Shipped, Cancel...\n",
       "Fulfilment                                           [Merchant, Amazon]\n",
       "ship-service-level                                [Standard, Expedited]\n",
       "Style                 [JNE3781, JNE3371, JNE3671, SET264, J0095, JNE...\n",
       "SKU                   [JNE3781-KR-XXXL, JNE3371-KR-XL, JNE3671-TU-XX...\n",
       "Category              [kurta, Top, Set, Western Dress, Ethnic Dress,...\n",
       "Size                   [3XL, XL, L, S, XXL, XS, 6XL, M, 4XL, 5XL, Free]\n",
       "ASIN                  [B09K3WFS32, B07WV4JV4D, B098714BZP, B08YN7XDS...\n",
       "Courier Status                                     [Shipped, Unshipped]\n",
       "Qty                                                  [1, 2, 3, 5, 4, 8]\n",
       "currency                                                          [INR]\n",
       "Amount                [406, 329, 574, 824, 653, 399, 363, 685, 364, ...\n",
       "ship-city             [BENGALURU, NAVI MUMBAI, CHENNAI, GHAZIABAD, C...\n",
       "ship-state            [KARNATAKA, MAHARASHTRA, TAMIL NADU, UTTAR PRA...\n",
       "ship-postal-code      [560085, 410210, 600073, 201102, 160036, 50003...\n",
       "ship-country                                                       [IN]\n",
       "promotion-ids         [Amazon PLCC Free-Financing Universal Merchant...\n",
       "B2B                                                       [FALSE, TRUE]\n",
       "fulfilled-by                                           [Easy Ship, nan]\n",
       "Unnamed: 22                                                [nan, FALSE]\n",
       "dtype: object"
      ]
     },
     "execution_count": 34,
     "metadata": {},
     "output_type": "execute_result"
    }
   ],
   "source": [
    "df.apply(pd.unique)"
   ]
  },
  {
   "cell_type": "code",
   "execution_count": 35,
   "id": "fbd7a89a",
   "metadata": {},
   "outputs": [
    {
     "data": {
      "text/plain": [
       "Order ID                  0\n",
       "Date                      0\n",
       "Status                    0\n",
       "Fulfilment                0\n",
       "ship-service-level        0\n",
       "Style                     0\n",
       "SKU                       0\n",
       "Category                  0\n",
       "Size                      0\n",
       "ASIN                      0\n",
       "Courier Status            0\n",
       "Qty                       0\n",
       "currency                  0\n",
       "Amount                    0\n",
       "ship-city                 0\n",
       "ship-state                0\n",
       "ship-postal-code          0\n",
       "ship-country              0\n",
       "promotion-ids         34948\n",
       "B2B                       0\n",
       "fulfilled-by          81954\n",
       "Unnamed: 22           42933\n",
       "dtype: int64"
      ]
     },
     "execution_count": 35,
     "metadata": {},
     "output_type": "execute_result"
    }
   ],
   "source": [
    "df.isnull().sum()"
   ]
  },
  {
   "cell_type": "code",
   "execution_count": 36,
   "id": "eab7f1a8",
   "metadata": {},
   "outputs": [],
   "source": [
    "# Dropping unwanted columns\n",
    "\n",
    "df.drop(columns = ['Order ID','Unnamed: 22','fulfilled-by','ship-country', 'currency',\n",
    "                   'promotion-ids', 'SKU', 'ASIN', 'B2B' ], inplace=True)"
   ]
  },
  {
   "cell_type": "code",
   "execution_count": 37,
   "id": "b67bf9f5",
   "metadata": {},
   "outputs": [
    {
     "data": {
      "text/plain": [
       "array(['KARNATAKA', 'MAHARASHTRA', 'TAMIL NADU', 'UTTAR PRADESH',\n",
       "       'CHANDIGARH', 'TELANGANA', 'ANDHRA PRADESH', 'RAJASTHAN', 'DELHI',\n",
       "       'HARYANA', 'ASSAM', 'JHARKHAND', 'CHHATTISGARH', 'ODISHA',\n",
       "       'KERALA', 'MADHYA PRADESH', 'WEST BENGAL', 'NAGALAND', 'Gujarat',\n",
       "       'UTTARAKHAND', 'BIHAR', 'JAMMU & KASHMIR', 'PUNJAB',\n",
       "       'HIMACHAL PRADESH', 'ARUNACHAL PRADESH', 'MANIPUR', 'Goa',\n",
       "       'MEGHALAYA', 'PUDUCHERRY', 'GOA', 'TRIPURA', 'LADAKH',\n",
       "       'DADRA AND NAGAR', 'SIKKIM', 'Delhi', 'ANDAMAN & NICOBAR ',\n",
       "       'Punjab', 'Rajshthan', 'Manipur', 'rajasthan', 'Odisha', 'NL',\n",
       "       'Bihar', 'MIZORAM', 'punjab', 'New Delhi', 'Rajasthan',\n",
       "       'Punjab/Mohali/Zirakpur', 'Puducherry', 'delhi', 'RJ',\n",
       "       'Chandigarh', 'orissa', 'LAKSHADWEEP', 'goa', 'PB',\n",
       "       'Arunachal Pradesh', 'AR', 'Pondicherry', 'Sikkim',\n",
       "       'Arunachal pradesh', 'Nagaland', 'bihar', 'Mizoram', 'rajsthan',\n",
       "       'Orissa', 'Rajsthan'], dtype=object)"
      ]
     },
     "execution_count": 37,
     "metadata": {},
     "output_type": "execute_result"
    }
   ],
   "source": [
    "#Checking the unique names of the state\n",
    "df['ship-state'].unique()"
   ]
  },
  {
   "cell_type": "code",
   "execution_count": 38,
   "id": "708f282c",
   "metadata": {},
   "outputs": [],
   "source": [
    "#Standardizing the data\n",
    "df.loc[df['ship-state'].isin(['GOA','goa','Goa']),'ship-state'] = 'GOA'\n",
    "df.loc[df['ship-state'].isin(['rajsthan','Rajasthan','rajasthan','Rajshthan','Rajsthan','RAJASTHAN', 'RJ']),'ship-state'] = 'RAJASTHAN'\n",
    "df.loc[df['ship-state'].isin(['Punjab/Mohali/Zirakpur','PB','punjab','PUNJAB']),'ship-state'] = 'PUNJAB'\n",
    "df.loc[df['ship-state'].isin([ 'AR','Arunachal pradesh','ARUNACHAL PRADESH']),'ship-state'] = 'ARUNACHALA PRADESH'\n",
    "df.loc[df['ship-state'].isin(['NL','NAGALAND']),'ship-state'] = 'NAGALAND'\n",
    "df.loc[df['ship-state'].isin(['Puducherry']),'ship-state'] = 'PONDICHEERY'\n",
    "df.loc[df['ship-state'].isin(['orissa','Odisha','ODISHA']),'ship-state'] = 'ORISSA'\n",
    "df.loc[df['ship-state'].isin(['SIKKIM']),'ship-state'] = 'SIKKIM'\n",
    "df.loc[df['ship-state'].isin(['bihar']),'ship-state'] = 'BIHAR'\n",
    "df.loc[df['ship-state'].isin(['CHANDIGARH']),'ship-state'] = 'CHANDIGARH'\n",
    "df.loc[df['ship-state'].isin(['delhi','New Delhi','DELHI']),'ship-state'] = 'DELHI'"
   ]
  },
  {
   "cell_type": "code",
   "execution_count": 39,
   "id": "c0c34dfd",
   "metadata": {},
   "outputs": [],
   "source": [
    "# Renaming columns\n",
    "\n",
    "mapper = {'Status':'Ship_Status','ship-service-level':'Service_Level',  \n",
    "         'Courier Status':'Courier_Status', 'Qty':'Quantity', \n",
    "          'ship-city':'City','ship-state':'State'}\n",
    "df.rename(columns=mapper, inplace =True)"
   ]
  },
  {
   "cell_type": "code",
   "execution_count": 40,
   "id": "f283ba30",
   "metadata": {},
   "outputs": [
    {
     "data": {
      "text/plain": [
       "113514"
      ]
     },
     "execution_count": 40,
     "metadata": {},
     "output_type": "execute_result"
    }
   ],
   "source": [
    "total_record=len(df)\n",
    "total_record"
   ]
  },
  {
   "cell_type": "code",
   "execution_count": 41,
   "id": "7b2423ac",
   "metadata": {},
   "outputs": [
    {
     "data": {
      "text/plain": [
       "461"
      ]
     },
     "execution_count": 41,
     "metadata": {},
     "output_type": "execute_result"
    }
   ],
   "source": [
    "df.duplicated().sum()"
   ]
  },
  {
   "cell_type": "code",
   "execution_count": 42,
   "id": "0b82b71c",
   "metadata": {},
   "outputs": [
    {
     "name": "stdout",
     "output_type": "stream",
     "text": [
      "461 duplicate rows have been removed! \n",
      "The Dataset now has 113053 rows.\n"
     ]
    }
   ],
   "source": [
    "df.drop_duplicates(inplace = True)\n",
    "after_removed_duplicates = len(df)\n",
    "duplicate_rows_removed = total_record - after_removed_duplicates\n",
    "print(f'{duplicate_rows_removed} duplicate rows have been removed! \\nThe Dataset now has {after_removed_duplicates} rows.')"
   ]
  },
  {
   "cell_type": "code",
   "execution_count": 43,
   "id": "c12c41b8",
   "metadata": {},
   "outputs": [
    {
     "data": {
      "text/plain": [
       "Date                0\n",
       "Ship_Status         0\n",
       "Fulfilment          0\n",
       "Service_Level       0\n",
       "Style               0\n",
       "Category            0\n",
       "Size                0\n",
       "Courier_Status      0\n",
       "Quantity            0\n",
       "Amount              0\n",
       "City                0\n",
       "State               0\n",
       "ship-postal-code    0\n",
       "dtype: int64"
      ]
     },
     "execution_count": 43,
     "metadata": {},
     "output_type": "execute_result"
    }
   ],
   "source": [
    "# Sum of null values \n",
    "\n",
    "df.isnull().sum()"
   ]
  },
  {
   "cell_type": "code",
   "execution_count": 44,
   "id": "63b09049",
   "metadata": {},
   "outputs": [
    {
     "data": {
      "text/plain": [
       "<AxesSubplot:>"
      ]
     },
     "execution_count": 44,
     "metadata": {},
     "output_type": "execute_result"
    },
    {
     "data": {
      "image/png": "[encoded data removed]",
      "text/plain": [
       "<Figure size 2500x1000 with 3 Axes>"
      ]
     },
     "metadata": {},
     "output_type": "display_data"
    }
   ],
   "source": [
    "msno.bar(df)"
   ]
  },
  {
   "cell_type": "code",
   "execution_count": 45,
   "id": "42973248",
   "metadata": {},
   "outputs": [
    {
     "data": {
      "text/html": [
       "<div>\n",
       "<style scoped>\n",
       "    .dataframe tbody tr th:only-of-type {\n",
       "        vertical-align: middle;\n",
       "    }\n",
       "\n",
       "    .dataframe tbody tr th {\n",
       "        vertical-align: top;\n",
       "    }\n",
       "\n",
       "    .dataframe thead th {\n",
       "        text-align: right;\n",
       "    }\n",
       "</style>\n",
       "<table border=\"1\" class=\"dataframe\">\n",
       "  <thead>\n",
       "    <tr style=\"text-align: right;\">\n",
       "      <th></th>\n",
       "      <th>Date</th>\n",
       "      <th>Ship_Status</th>\n",
       "      <th>Fulfilment</th>\n",
       "      <th>Service_Level</th>\n",
       "      <th>Style</th>\n",
       "      <th>Category</th>\n",
       "      <th>Size</th>\n",
       "      <th>Courier_Status</th>\n",
       "      <th>Quantity</th>\n",
       "      <th>Amount</th>\n",
       "      <th>City</th>\n",
       "      <th>State</th>\n",
       "      <th>ship-postal-code</th>\n",
       "    </tr>\n",
       "  </thead>\n",
       "  <tbody>\n",
       "    <tr>\n",
       "      <th>0</th>\n",
       "      <td>2022-04-30</td>\n",
       "      <td>Shipped - Delivered to Buyer</td>\n",
       "      <td>Merchant</td>\n",
       "      <td>Standard</td>\n",
       "      <td>JNE3781</td>\n",
       "      <td>kurta</td>\n",
       "      <td>3XL</td>\n",
       "      <td>Shipped</td>\n",
       "      <td>1</td>\n",
       "      <td>406</td>\n",
       "      <td>BENGALURU</td>\n",
       "      <td>KARNATAKA</td>\n",
       "      <td>560085</td>\n",
       "    </tr>\n",
       "    <tr>\n",
       "      <th>1</th>\n",
       "      <td>2022-04-30</td>\n",
       "      <td>Shipped</td>\n",
       "      <td>Amazon</td>\n",
       "      <td>Expedited</td>\n",
       "      <td>JNE3371</td>\n",
       "      <td>kurta</td>\n",
       "      <td>XL</td>\n",
       "      <td>Shipped</td>\n",
       "      <td>1</td>\n",
       "      <td>329</td>\n",
       "      <td>NAVI MUMBAI</td>\n",
       "      <td>MAHARASHTRA</td>\n",
       "      <td>410210</td>\n",
       "    </tr>\n",
       "    <tr>\n",
       "      <th>2</th>\n",
       "      <td>2022-04-30</td>\n",
       "      <td>Shipped</td>\n",
       "      <td>Amazon</td>\n",
       "      <td>Expedited</td>\n",
       "      <td>JNE3671</td>\n",
       "      <td>Top</td>\n",
       "      <td>3XL</td>\n",
       "      <td>Shipped</td>\n",
       "      <td>1</td>\n",
       "      <td>574</td>\n",
       "      <td>CHENNAI</td>\n",
       "      <td>TAMIL NADU</td>\n",
       "      <td>600073</td>\n",
       "    </tr>\n",
       "    <tr>\n",
       "      <th>3</th>\n",
       "      <td>2022-04-30</td>\n",
       "      <td>Shipped</td>\n",
       "      <td>Amazon</td>\n",
       "      <td>Expedited</td>\n",
       "      <td>SET264</td>\n",
       "      <td>Set</td>\n",
       "      <td>XL</td>\n",
       "      <td>Shipped</td>\n",
       "      <td>1</td>\n",
       "      <td>824</td>\n",
       "      <td>GHAZIABAD</td>\n",
       "      <td>UTTAR PRADESH</td>\n",
       "      <td>201102</td>\n",
       "    </tr>\n",
       "    <tr>\n",
       "      <th>4</th>\n",
       "      <td>2022-04-30</td>\n",
       "      <td>Shipped</td>\n",
       "      <td>Amazon</td>\n",
       "      <td>Expedited</td>\n",
       "      <td>J0095</td>\n",
       "      <td>Set</td>\n",
       "      <td>L</td>\n",
       "      <td>Shipped</td>\n",
       "      <td>1</td>\n",
       "      <td>653</td>\n",
       "      <td>CHANDIGARH</td>\n",
       "      <td>CHANDIGARH</td>\n",
       "      <td>160036</td>\n",
       "    </tr>\n",
       "  </tbody>\n",
       "</table>\n",
       "</div>"
      ],
      "text/plain": [
       "        Date                   Ship_Status Fulfilment Service_Level    Style  \\\n",
       "0 2022-04-30  Shipped - Delivered to Buyer   Merchant      Standard  JNE3781   \n",
       "1 2022-04-30                       Shipped     Amazon     Expedited  JNE3371   \n",
       "2 2022-04-30                       Shipped     Amazon     Expedited  JNE3671   \n",
       "3 2022-04-30                       Shipped     Amazon     Expedited   SET264   \n",
       "4 2022-04-30                       Shipped     Amazon     Expedited    J0095   \n",
       "\n",
       "  Category Size Courier_Status Quantity Amount         City          State  \\\n",
       "0    kurta  3XL        Shipped        1    406    BENGALURU      KARNATAKA   \n",
       "1    kurta   XL        Shipped        1    329  NAVI MUMBAI    MAHARASHTRA   \n",
       "2      Top  3XL        Shipped        1    574      CHENNAI     TAMIL NADU   \n",
       "3      Set   XL        Shipped        1    824    GHAZIABAD  UTTAR PRADESH   \n",
       "4      Set    L        Shipped        1    653   CHANDIGARH     CHANDIGARH   \n",
       "\n",
       "  ship-postal-code  \n",
       "0           560085  \n",
       "1           410210  \n",
       "2           600073  \n",
       "3           201102  \n",
       "4           160036  "
      ]
     },
     "execution_count": 45,
     "metadata": {},
     "output_type": "execute_result"
    }
   ],
   "source": [
    "# Changing date formate\n",
    "\n",
    "df['Date'] = pd.to_datetime(df['Date'])\n",
    "df.head()"
   ]
  },
  {
   "cell_type": "code",
   "execution_count": 46,
   "id": "9874dffb",
   "metadata": {},
   "outputs": [
    {
     "data": {
      "text/html": [
       "<div>\n",
       "<style scoped>\n",
       "    .dataframe tbody tr th:only-of-type {\n",
       "        vertical-align: middle;\n",
       "    }\n",
       "\n",
       "    .dataframe tbody tr th {\n",
       "        vertical-align: top;\n",
       "    }\n",
       "\n",
       "    .dataframe thead th {\n",
       "        text-align: right;\n",
       "    }\n",
       "</style>\n",
       "<table border=\"1\" class=\"dataframe\">\n",
       "  <thead>\n",
       "    <tr style=\"text-align: right;\">\n",
       "      <th></th>\n",
       "      <th>Date</th>\n",
       "      <th>Ship_Status</th>\n",
       "      <th>Fulfilment</th>\n",
       "      <th>Service_Level</th>\n",
       "      <th>Style</th>\n",
       "      <th>Category</th>\n",
       "      <th>Size</th>\n",
       "      <th>Courier_Status</th>\n",
       "      <th>Quantity</th>\n",
       "      <th>Amount</th>\n",
       "      <th>City</th>\n",
       "      <th>State</th>\n",
       "      <th>ship-postal-code</th>\n",
       "      <th>Month</th>\n",
       "      <th>Day</th>\n",
       "    </tr>\n",
       "  </thead>\n",
       "  <tbody>\n",
       "    <tr>\n",
       "      <th>0</th>\n",
       "      <td>2022-04-30</td>\n",
       "      <td>Shipped - Delivered to Buyer</td>\n",
       "      <td>Merchant</td>\n",
       "      <td>Standard</td>\n",
       "      <td>JNE3781</td>\n",
       "      <td>kurta</td>\n",
       "      <td>3XL</td>\n",
       "      <td>Shipped</td>\n",
       "      <td>1</td>\n",
       "      <td>406</td>\n",
       "      <td>BENGALURU</td>\n",
       "      <td>KARNATAKA</td>\n",
       "      <td>560085</td>\n",
       "      <td>4</td>\n",
       "      <td>30</td>\n",
       "    </tr>\n",
       "    <tr>\n",
       "      <th>1</th>\n",
       "      <td>2022-04-30</td>\n",
       "      <td>Shipped</td>\n",
       "      <td>Amazon</td>\n",
       "      <td>Expedited</td>\n",
       "      <td>JNE3371</td>\n",
       "      <td>kurta</td>\n",
       "      <td>XL</td>\n",
       "      <td>Shipped</td>\n",
       "      <td>1</td>\n",
       "      <td>329</td>\n",
       "      <td>NAVI MUMBAI</td>\n",
       "      <td>MAHARASHTRA</td>\n",
       "      <td>410210</td>\n",
       "      <td>4</td>\n",
       "      <td>30</td>\n",
       "    </tr>\n",
       "    <tr>\n",
       "      <th>2</th>\n",
       "      <td>2022-04-30</td>\n",
       "      <td>Shipped</td>\n",
       "      <td>Amazon</td>\n",
       "      <td>Expedited</td>\n",
       "      <td>JNE3671</td>\n",
       "      <td>Top</td>\n",
       "      <td>3XL</td>\n",
       "      <td>Shipped</td>\n",
       "      <td>1</td>\n",
       "      <td>574</td>\n",
       "      <td>CHENNAI</td>\n",
       "      <td>TAMIL NADU</td>\n",
       "      <td>600073</td>\n",
       "      <td>4</td>\n",
       "      <td>30</td>\n",
       "    </tr>\n",
       "    <tr>\n",
       "      <th>3</th>\n",
       "      <td>2022-04-30</td>\n",
       "      <td>Shipped</td>\n",
       "      <td>Amazon</td>\n",
       "      <td>Expedited</td>\n",
       "      <td>SET264</td>\n",
       "      <td>Set</td>\n",
       "      <td>XL</td>\n",
       "      <td>Shipped</td>\n",
       "      <td>1</td>\n",
       "      <td>824</td>\n",
       "      <td>GHAZIABAD</td>\n",
       "      <td>UTTAR PRADESH</td>\n",
       "      <td>201102</td>\n",
       "      <td>4</td>\n",
       "      <td>30</td>\n",
       "    </tr>\n",
       "    <tr>\n",
       "      <th>4</th>\n",
       "      <td>2022-04-30</td>\n",
       "      <td>Shipped</td>\n",
       "      <td>Amazon</td>\n",
       "      <td>Expedited</td>\n",
       "      <td>J0095</td>\n",
       "      <td>Set</td>\n",
       "      <td>L</td>\n",
       "      <td>Shipped</td>\n",
       "      <td>1</td>\n",
       "      <td>653</td>\n",
       "      <td>CHANDIGARH</td>\n",
       "      <td>CHANDIGARH</td>\n",
       "      <td>160036</td>\n",
       "      <td>4</td>\n",
       "      <td>30</td>\n",
       "    </tr>\n",
       "  </tbody>\n",
       "</table>\n",
       "</div>"
      ],
      "text/plain": [
       "        Date                   Ship_Status Fulfilment Service_Level    Style  \\\n",
       "0 2022-04-30  Shipped - Delivered to Buyer   Merchant      Standard  JNE3781   \n",
       "1 2022-04-30                       Shipped     Amazon     Expedited  JNE3371   \n",
       "2 2022-04-30                       Shipped     Amazon     Expedited  JNE3671   \n",
       "3 2022-04-30                       Shipped     Amazon     Expedited   SET264   \n",
       "4 2022-04-30                       Shipped     Amazon     Expedited    J0095   \n",
       "\n",
       "  Category Size Courier_Status Quantity Amount         City          State  \\\n",
       "0    kurta  3XL        Shipped        1    406    BENGALURU      KARNATAKA   \n",
       "1    kurta   XL        Shipped        1    329  NAVI MUMBAI    MAHARASHTRA   \n",
       "2      Top  3XL        Shipped        1    574      CHENNAI     TAMIL NADU   \n",
       "3      Set   XL        Shipped        1    824    GHAZIABAD  UTTAR PRADESH   \n",
       "4      Set    L        Shipped        1    653   CHANDIGARH     CHANDIGARH   \n",
       "\n",
       "  ship-postal-code  Month  Day  \n",
       "0           560085      4   30  \n",
       "1           410210      4   30  \n",
       "2           600073      4   30  \n",
       "3           201102      4   30  \n",
       "4           160036      4   30  "
      ]
     },
     "execution_count": 46,
     "metadata": {},
     "output_type": "execute_result"
    }
   ],
   "source": [
    "# unique months \n",
    "\n",
    "df['Month'] = df['Date'].dt.month\n",
    "df['Day'] = df['Date'].dt.day\n",
    "df.head()"
   ]
  },
  {
   "cell_type": "code",
   "execution_count": 47,
   "id": "4ac0ac23",
   "metadata": {},
   "outputs": [
    {
     "data": {
      "text/plain": [
       "Date                datetime64[ns]\n",
       "Ship_Status                 object\n",
       "Fulfilment                  object\n",
       "Service_Level               object\n",
       "Style                       object\n",
       "Category                    object\n",
       "Size                        object\n",
       "Courier_Status              object\n",
       "Quantity                    object\n",
       "Amount                      object\n",
       "City                        object\n",
       "State                       object\n",
       "ship-postal-code            object\n",
       "Month                        int64\n",
       "Day                          int64\n",
       "dtype: object"
      ]
     },
     "execution_count": 47,
     "metadata": {},
     "output_type": "execute_result"
    }
   ],
   "source": [
    "df.dtypes"
   ]
  },
  {
   "cell_type": "code",
   "execution_count": 48,
   "id": "186ba340",
   "metadata": {},
   "outputs": [
    {
     "data": {
      "text/html": [
       "<div>\n",
       "<style scoped>\n",
       "    .dataframe tbody tr th:only-of-type {\n",
       "        vertical-align: middle;\n",
       "    }\n",
       "\n",
       "    .dataframe tbody tr th {\n",
       "        vertical-align: top;\n",
       "    }\n",
       "\n",
       "    .dataframe thead th {\n",
       "        text-align: right;\n",
       "    }\n",
       "</style>\n",
       "<table border=\"1\" class=\"dataframe\">\n",
       "  <thead>\n",
       "    <tr style=\"text-align: right;\">\n",
       "      <th></th>\n",
       "      <th>Date</th>\n",
       "      <th>Ship_Status</th>\n",
       "      <th>Fulfilment</th>\n",
       "      <th>Service_Level</th>\n",
       "      <th>Style</th>\n",
       "      <th>Category</th>\n",
       "      <th>Size</th>\n",
       "      <th>Courier_Status</th>\n",
       "      <th>Quantity</th>\n",
       "      <th>Amount</th>\n",
       "      <th>City</th>\n",
       "      <th>State</th>\n",
       "      <th>ship-postal-code</th>\n",
       "      <th>Month</th>\n",
       "      <th>Day</th>\n",
       "    </tr>\n",
       "  </thead>\n",
       "  <tbody>\n",
       "    <tr>\n",
       "      <th>0</th>\n",
       "      <td>2022-04-30</td>\n",
       "      <td>Shipped - Delivered to Buyer</td>\n",
       "      <td>Merchant</td>\n",
       "      <td>Standard</td>\n",
       "      <td>JNE3781</td>\n",
       "      <td>kurta</td>\n",
       "      <td>3XL</td>\n",
       "      <td>Shipped</td>\n",
       "      <td>1</td>\n",
       "      <td>406</td>\n",
       "      <td>BENGALURU</td>\n",
       "      <td>KARNATAKA</td>\n",
       "      <td>560085</td>\n",
       "      <td>April</td>\n",
       "      <td>30</td>\n",
       "    </tr>\n",
       "    <tr>\n",
       "      <th>1</th>\n",
       "      <td>2022-04-30</td>\n",
       "      <td>Shipped</td>\n",
       "      <td>Amazon</td>\n",
       "      <td>Expedited</td>\n",
       "      <td>JNE3371</td>\n",
       "      <td>kurta</td>\n",
       "      <td>XL</td>\n",
       "      <td>Shipped</td>\n",
       "      <td>1</td>\n",
       "      <td>329</td>\n",
       "      <td>NAVI MUMBAI</td>\n",
       "      <td>MAHARASHTRA</td>\n",
       "      <td>410210</td>\n",
       "      <td>April</td>\n",
       "      <td>30</td>\n",
       "    </tr>\n",
       "    <tr>\n",
       "      <th>2</th>\n",
       "      <td>2022-04-30</td>\n",
       "      <td>Shipped</td>\n",
       "      <td>Amazon</td>\n",
       "      <td>Expedited</td>\n",
       "      <td>JNE3671</td>\n",
       "      <td>Top</td>\n",
       "      <td>3XL</td>\n",
       "      <td>Shipped</td>\n",
       "      <td>1</td>\n",
       "      <td>574</td>\n",
       "      <td>CHENNAI</td>\n",
       "      <td>TAMIL NADU</td>\n",
       "      <td>600073</td>\n",
       "      <td>April</td>\n",
       "      <td>30</td>\n",
       "    </tr>\n",
       "    <tr>\n",
       "      <th>3</th>\n",
       "      <td>2022-04-30</td>\n",
       "      <td>Shipped</td>\n",
       "      <td>Amazon</td>\n",
       "      <td>Expedited</td>\n",
       "      <td>SET264</td>\n",
       "      <td>Set</td>\n",
       "      <td>XL</td>\n",
       "      <td>Shipped</td>\n",
       "      <td>1</td>\n",
       "      <td>824</td>\n",
       "      <td>GHAZIABAD</td>\n",
       "      <td>UTTAR PRADESH</td>\n",
       "      <td>201102</td>\n",
       "      <td>April</td>\n",
       "      <td>30</td>\n",
       "    </tr>\n",
       "    <tr>\n",
       "      <th>4</th>\n",
       "      <td>2022-04-30</td>\n",
       "      <td>Shipped</td>\n",
       "      <td>Amazon</td>\n",
       "      <td>Expedited</td>\n",
       "      <td>J0095</td>\n",
       "      <td>Set</td>\n",
       "      <td>L</td>\n",
       "      <td>Shipped</td>\n",
       "      <td>1</td>\n",
       "      <td>653</td>\n",
       "      <td>CHANDIGARH</td>\n",
       "      <td>CHANDIGARH</td>\n",
       "      <td>160036</td>\n",
       "      <td>April</td>\n",
       "      <td>30</td>\n",
       "    </tr>\n",
       "  </tbody>\n",
       "</table>\n",
       "</div>"
      ],
      "text/plain": [
       "        Date                   Ship_Status Fulfilment Service_Level    Style  \\\n",
       "0 2022-04-30  Shipped - Delivered to Buyer   Merchant      Standard  JNE3781   \n",
       "1 2022-04-30                       Shipped     Amazon     Expedited  JNE3371   \n",
       "2 2022-04-30                       Shipped     Amazon     Expedited  JNE3671   \n",
       "3 2022-04-30                       Shipped     Amazon     Expedited   SET264   \n",
       "4 2022-04-30                       Shipped     Amazon     Expedited    J0095   \n",
       "\n",
       "  Category Size Courier_Status Quantity Amount         City          State  \\\n",
       "0    kurta  3XL        Shipped        1    406    BENGALURU      KARNATAKA   \n",
       "1    kurta   XL        Shipped        1    329  NAVI MUMBAI    MAHARASHTRA   \n",
       "2      Top  3XL        Shipped        1    574      CHENNAI     TAMIL NADU   \n",
       "3      Set   XL        Shipped        1    824    GHAZIABAD  UTTAR PRADESH   \n",
       "4      Set    L        Shipped        1    653   CHANDIGARH     CHANDIGARH   \n",
       "\n",
       "  ship-postal-code  Month Day  \n",
       "0           560085  April  30  \n",
       "1           410210  April  30  \n",
       "2           600073  April  30  \n",
       "3           201102  April  30  \n",
       "4           160036  April  30  "
      ]
     },
     "execution_count": 48,
     "metadata": {},
     "output_type": "execute_result"
    }
   ],
   "source": [
    "# Replacing num to char\n",
    "\n",
    "Month = ['April', 'May', 'June']\n",
    "df.replace((4,5,6),Month, inplace = True)\n",
    "df['Month'].unique()\n",
    "df.head()"
   ]
  },
  {
   "cell_type": "code",
   "execution_count": 49,
   "id": "0c16bad1",
   "metadata": {},
   "outputs": [
    {
     "name": "stdout",
     "output_type": "stream",
     "text": [
      "April    42918\n",
      "May      36919\n",
      "June     33216\n",
      "Name: Month, dtype: int64\n"
     ]
    }
   ],
   "source": [
    "print(df['Month'].value_counts())"
   ]
  },
  {
   "cell_type": "code",
   "execution_count": 50,
   "id": "31119c51",
   "metadata": {},
   "outputs": [
    {
     "data": {
      "text/plain": [
       "(113053, 15)"
      ]
     },
     "execution_count": 50,
     "metadata": {},
     "output_type": "execute_result"
    }
   ],
   "source": [
    "df.shape"
   ]
  },
  {
   "cell_type": "code",
   "execution_count": 51,
   "id": "6be8a821",
   "metadata": {},
   "outputs": [
    {
     "data": {
      "text/plain": [
       "Date                datetime64[ns]\n",
       "Ship_Status                 object\n",
       "Fulfilment                  object\n",
       "Service_Level               object\n",
       "Style                       object\n",
       "Category                    object\n",
       "Size                        object\n",
       "Courier_Status              object\n",
       "Quantity                     int64\n",
       "Amount                       int64\n",
       "City                        object\n",
       "State                       object\n",
       "ship-postal-code            object\n",
       "Month                       object\n",
       "Day                         object\n",
       "dtype: object"
      ]
     },
     "execution_count": 51,
     "metadata": {},
     "output_type": "execute_result"
    }
   ],
   "source": [
    "# Changing datatypes\n",
    "\n",
    "df = df.astype({\"Amount\": 'int64', \"Quantity\": 'int64'})\n",
    "df.dtypes"
   ]
  },
  {
   "cell_type": "code",
   "execution_count": 52,
   "id": "d790ceb0",
   "metadata": {},
   "outputs": [
    {
     "data": {
      "text/html": [
       "<div>\n",
       "<style scoped>\n",
       "    .dataframe tbody tr th:only-of-type {\n",
       "        vertical-align: middle;\n",
       "    }\n",
       "\n",
       "    .dataframe tbody tr th {\n",
       "        vertical-align: top;\n",
       "    }\n",
       "\n",
       "    .dataframe thead th {\n",
       "        text-align: right;\n",
       "    }\n",
       "</style>\n",
       "<table border=\"1\" class=\"dataframe\">\n",
       "  <thead>\n",
       "    <tr style=\"text-align: right;\">\n",
       "      <th></th>\n",
       "      <th>Date</th>\n",
       "      <th>Ship_Status</th>\n",
       "      <th>Fulfilment</th>\n",
       "      <th>Service_Level</th>\n",
       "      <th>Style</th>\n",
       "      <th>Category</th>\n",
       "      <th>Size</th>\n",
       "      <th>Courier_Status</th>\n",
       "      <th>Quantity</th>\n",
       "      <th>Amount</th>\n",
       "      <th>City</th>\n",
       "      <th>State</th>\n",
       "      <th>ship-postal-code</th>\n",
       "      <th>Month</th>\n",
       "      <th>Day</th>\n",
       "      <th>Sales_Revenue</th>\n",
       "    </tr>\n",
       "  </thead>\n",
       "  <tbody>\n",
       "    <tr>\n",
       "      <th>0</th>\n",
       "      <td>2022-04-30</td>\n",
       "      <td>Shipped - Delivered to Buyer</td>\n",
       "      <td>Merchant</td>\n",
       "      <td>Standard</td>\n",
       "      <td>JNE3781</td>\n",
       "      <td>kurta</td>\n",
       "      <td>3XL</td>\n",
       "      <td>Shipped</td>\n",
       "      <td>1</td>\n",
       "      <td>406</td>\n",
       "      <td>BENGALURU</td>\n",
       "      <td>KARNATAKA</td>\n",
       "      <td>560085</td>\n",
       "      <td>April</td>\n",
       "      <td>30</td>\n",
       "      <td>406</td>\n",
       "    </tr>\n",
       "    <tr>\n",
       "      <th>1</th>\n",
       "      <td>2022-04-30</td>\n",
       "      <td>Shipped</td>\n",
       "      <td>Amazon</td>\n",
       "      <td>Expedited</td>\n",
       "      <td>JNE3371</td>\n",
       "      <td>kurta</td>\n",
       "      <td>XL</td>\n",
       "      <td>Shipped</td>\n",
       "      <td>1</td>\n",
       "      <td>329</td>\n",
       "      <td>NAVI MUMBAI</td>\n",
       "      <td>MAHARASHTRA</td>\n",
       "      <td>410210</td>\n",
       "      <td>April</td>\n",
       "      <td>30</td>\n",
       "      <td>329</td>\n",
       "    </tr>\n",
       "    <tr>\n",
       "      <th>2</th>\n",
       "      <td>2022-04-30</td>\n",
       "      <td>Shipped</td>\n",
       "      <td>Amazon</td>\n",
       "      <td>Expedited</td>\n",
       "      <td>JNE3671</td>\n",
       "      <td>Top</td>\n",
       "      <td>3XL</td>\n",
       "      <td>Shipped</td>\n",
       "      <td>1</td>\n",
       "      <td>574</td>\n",
       "      <td>CHENNAI</td>\n",
       "      <td>TAMIL NADU</td>\n",
       "      <td>600073</td>\n",
       "      <td>April</td>\n",
       "      <td>30</td>\n",
       "      <td>574</td>\n",
       "    </tr>\n",
       "    <tr>\n",
       "      <th>3</th>\n",
       "      <td>2022-04-30</td>\n",
       "      <td>Shipped</td>\n",
       "      <td>Amazon</td>\n",
       "      <td>Expedited</td>\n",
       "      <td>SET264</td>\n",
       "      <td>Set</td>\n",
       "      <td>XL</td>\n",
       "      <td>Shipped</td>\n",
       "      <td>1</td>\n",
       "      <td>824</td>\n",
       "      <td>GHAZIABAD</td>\n",
       "      <td>UTTAR PRADESH</td>\n",
       "      <td>201102</td>\n",
       "      <td>April</td>\n",
       "      <td>30</td>\n",
       "      <td>824</td>\n",
       "    </tr>\n",
       "    <tr>\n",
       "      <th>4</th>\n",
       "      <td>2022-04-30</td>\n",
       "      <td>Shipped</td>\n",
       "      <td>Amazon</td>\n",
       "      <td>Expedited</td>\n",
       "      <td>J0095</td>\n",
       "      <td>Set</td>\n",
       "      <td>L</td>\n",
       "      <td>Shipped</td>\n",
       "      <td>1</td>\n",
       "      <td>653</td>\n",
       "      <td>CHANDIGARH</td>\n",
       "      <td>CHANDIGARH</td>\n",
       "      <td>160036</td>\n",
       "      <td>April</td>\n",
       "      <td>30</td>\n",
       "      <td>653</td>\n",
       "    </tr>\n",
       "    <tr>\n",
       "      <th>...</th>\n",
       "      <td>...</td>\n",
       "      <td>...</td>\n",
       "      <td>...</td>\n",
       "      <td>...</td>\n",
       "      <td>...</td>\n",
       "      <td>...</td>\n",
       "      <td>...</td>\n",
       "      <td>...</td>\n",
       "      <td>...</td>\n",
       "      <td>...</td>\n",
       "      <td>...</td>\n",
       "      <td>...</td>\n",
       "      <td>...</td>\n",
       "      <td>...</td>\n",
       "      <td>...</td>\n",
       "      <td>...</td>\n",
       "    </tr>\n",
       "    <tr>\n",
       "      <th>113509</th>\n",
       "      <td>2022-05-31</td>\n",
       "      <td>Shipped</td>\n",
       "      <td>Amazon</td>\n",
       "      <td>Expedited</td>\n",
       "      <td>JNE3697</td>\n",
       "      <td>kurta</td>\n",
       "      <td>XL</td>\n",
       "      <td>Shipped</td>\n",
       "      <td>1</td>\n",
       "      <td>517</td>\n",
       "      <td>HYDERABAD</td>\n",
       "      <td>TELANGANA</td>\n",
       "      <td>500013</td>\n",
       "      <td>May</td>\n",
       "      <td>31</td>\n",
       "      <td>517</td>\n",
       "    </tr>\n",
       "    <tr>\n",
       "      <th>113510</th>\n",
       "      <td>2022-05-31</td>\n",
       "      <td>Shipped</td>\n",
       "      <td>Amazon</td>\n",
       "      <td>Expedited</td>\n",
       "      <td>SET401</td>\n",
       "      <td>Set</td>\n",
       "      <td>M</td>\n",
       "      <td>Shipped</td>\n",
       "      <td>1</td>\n",
       "      <td>999</td>\n",
       "      <td>GURUGRAM</td>\n",
       "      <td>HARYANA</td>\n",
       "      <td>122004</td>\n",
       "      <td>May</td>\n",
       "      <td>31</td>\n",
       "      <td>999</td>\n",
       "    </tr>\n",
       "    <tr>\n",
       "      <th>113511</th>\n",
       "      <td>2022-05-31</td>\n",
       "      <td>Shipped</td>\n",
       "      <td>Amazon</td>\n",
       "      <td>Expedited</td>\n",
       "      <td>J0157</td>\n",
       "      <td>Western Dress</td>\n",
       "      <td>XXL</td>\n",
       "      <td>Shipped</td>\n",
       "      <td>1</td>\n",
       "      <td>690</td>\n",
       "      <td>HYDERABAD</td>\n",
       "      <td>TELANGANA</td>\n",
       "      <td>500049</td>\n",
       "      <td>May</td>\n",
       "      <td>31</td>\n",
       "      <td>690</td>\n",
       "    </tr>\n",
       "    <tr>\n",
       "      <th>113512</th>\n",
       "      <td>2022-05-31</td>\n",
       "      <td>Shipped</td>\n",
       "      <td>Amazon</td>\n",
       "      <td>Expedited</td>\n",
       "      <td>J0012</td>\n",
       "      <td>Set</td>\n",
       "      <td>XS</td>\n",
       "      <td>Shipped</td>\n",
       "      <td>1</td>\n",
       "      <td>1199</td>\n",
       "      <td>Halol</td>\n",
       "      <td>Gujarat</td>\n",
       "      <td>389350</td>\n",
       "      <td>May</td>\n",
       "      <td>31</td>\n",
       "      <td>1199</td>\n",
       "    </tr>\n",
       "    <tr>\n",
       "      <th>113513</th>\n",
       "      <td>2022-05-31</td>\n",
       "      <td>Shipped</td>\n",
       "      <td>Amazon</td>\n",
       "      <td>Expedited</td>\n",
       "      <td>J0003</td>\n",
       "      <td>Set</td>\n",
       "      <td>S</td>\n",
       "      <td>Shipped</td>\n",
       "      <td>1</td>\n",
       "      <td>696</td>\n",
       "      <td>Raipur</td>\n",
       "      <td>CHHATTISGARH</td>\n",
       "      <td>492014</td>\n",
       "      <td>May</td>\n",
       "      <td>31</td>\n",
       "      <td>696</td>\n",
       "    </tr>\n",
       "  </tbody>\n",
       "</table>\n",
       "<p>113053 rows × 16 columns</p>\n",
       "</div>"
      ],
      "text/plain": [
       "             Date                   Ship_Status Fulfilment Service_Level  \\\n",
       "0      2022-04-30  Shipped - Delivered to Buyer   Merchant      Standard   \n",
       "1      2022-04-30                       Shipped     Amazon     Expedited   \n",
       "2      2022-04-30                       Shipped     Amazon     Expedited   \n",
       "3      2022-04-30                       Shipped     Amazon     Expedited   \n",
       "4      2022-04-30                       Shipped     Amazon     Expedited   \n",
       "...           ...                           ...        ...           ...   \n",
       "113509 2022-05-31                       Shipped     Amazon     Expedited   \n",
       "113510 2022-05-31                       Shipped     Amazon     Expedited   \n",
       "113511 2022-05-31                       Shipped     Amazon     Expedited   \n",
       "113512 2022-05-31                       Shipped     Amazon     Expedited   \n",
       "113513 2022-05-31                       Shipped     Amazon     Expedited   \n",
       "\n",
       "          Style       Category Size Courier_Status  Quantity  Amount  \\\n",
       "0       JNE3781          kurta  3XL        Shipped         1     406   \n",
       "1       JNE3371          kurta   XL        Shipped         1     329   \n",
       "2       JNE3671            Top  3XL        Shipped         1     574   \n",
       "3        SET264            Set   XL        Shipped         1     824   \n",
       "4         J0095            Set    L        Shipped         1     653   \n",
       "...         ...            ...  ...            ...       ...     ...   \n",
       "113509  JNE3697          kurta   XL        Shipped         1     517   \n",
       "113510   SET401            Set    M        Shipped         1     999   \n",
       "113511    J0157  Western Dress  XXL        Shipped         1     690   \n",
       "113512    J0012            Set   XS        Shipped         1    1199   \n",
       "113513    J0003            Set    S        Shipped         1     696   \n",
       "\n",
       "               City          State ship-postal-code  Month Day  Sales_Revenue  \n",
       "0         BENGALURU      KARNATAKA           560085  April  30            406  \n",
       "1       NAVI MUMBAI    MAHARASHTRA           410210  April  30            329  \n",
       "2           CHENNAI     TAMIL NADU           600073  April  30            574  \n",
       "3         GHAZIABAD  UTTAR PRADESH           201102  April  30            824  \n",
       "4        CHANDIGARH     CHANDIGARH           160036  April  30            653  \n",
       "...             ...            ...              ...    ...  ..            ...  \n",
       "113509    HYDERABAD      TELANGANA           500013    May  31            517  \n",
       "113510     GURUGRAM        HARYANA           122004    May  31            999  \n",
       "113511    HYDERABAD      TELANGANA           500049    May  31            690  \n",
       "113512        Halol        Gujarat           389350    May  31           1199  \n",
       "113513       Raipur   CHHATTISGARH           492014    May  31            696  \n",
       "\n",
       "[113053 rows x 16 columns]"
      ]
     },
     "execution_count": 52,
     "metadata": {},
     "output_type": "execute_result"
    }
   ],
   "source": [
    "df['Sales_Revenue']=df['Amount']*df['Quantity']\n",
    "df"
   ]
  },
  {
   "cell_type": "markdown",
   "id": "9b1e775f",
   "metadata": {},
   "source": [
    "# Data Preparation "
   ]
  },
  {
   "cell_type": "code",
   "execution_count": 54,
   "id": "7618ee11",
   "metadata": {},
   "outputs": [
    {
     "data": {
      "text/html": [
       "<div>\n",
       "<style scoped>\n",
       "    .dataframe tbody tr th:only-of-type {\n",
       "        vertical-align: middle;\n",
       "    }\n",
       "\n",
       "    .dataframe tbody tr th {\n",
       "        vertical-align: top;\n",
       "    }\n",
       "\n",
       "    .dataframe thead th {\n",
       "        text-align: right;\n",
       "    }\n",
       "</style>\n",
       "<table border=\"1\" class=\"dataframe\">\n",
       "  <thead>\n",
       "    <tr style=\"text-align: right;\">\n",
       "      <th></th>\n",
       "      <th>Date</th>\n",
       "      <th>Ship_Status</th>\n",
       "      <th>Fulfilment</th>\n",
       "      <th>Service_Level</th>\n",
       "      <th>Style</th>\n",
       "      <th>Category</th>\n",
       "      <th>Size</th>\n",
       "      <th>Courier_Status</th>\n",
       "      <th>Quantity</th>\n",
       "      <th>Amount</th>\n",
       "      <th>City</th>\n",
       "      <th>State</th>\n",
       "      <th>ship-postal-code</th>\n",
       "      <th>Month</th>\n",
       "      <th>Day</th>\n",
       "      <th>Sales_Revenue</th>\n",
       "    </tr>\n",
       "  </thead>\n",
       "  <tbody>\n",
       "    <tr>\n",
       "      <th>0</th>\n",
       "      <td>2022-04-30</td>\n",
       "      <td>Shipped - Delivered to Buyer</td>\n",
       "      <td>Merchant</td>\n",
       "      <td>Standard</td>\n",
       "      <td>JNE3781</td>\n",
       "      <td>kurta</td>\n",
       "      <td>3XL</td>\n",
       "      <td>Shipped</td>\n",
       "      <td>1</td>\n",
       "      <td>406</td>\n",
       "      <td>BENGALURU</td>\n",
       "      <td>KARNATAKA</td>\n",
       "      <td>560085</td>\n",
       "      <td>April</td>\n",
       "      <td>30</td>\n",
       "      <td>406</td>\n",
       "    </tr>\n",
       "    <tr>\n",
       "      <th>1</th>\n",
       "      <td>2022-04-30</td>\n",
       "      <td>Shipped</td>\n",
       "      <td>Amazon</td>\n",
       "      <td>Expedited</td>\n",
       "      <td>JNE3371</td>\n",
       "      <td>kurta</td>\n",
       "      <td>XL</td>\n",
       "      <td>Shipped</td>\n",
       "      <td>1</td>\n",
       "      <td>329</td>\n",
       "      <td>NAVI MUMBAI</td>\n",
       "      <td>MAHARASHTRA</td>\n",
       "      <td>410210</td>\n",
       "      <td>April</td>\n",
       "      <td>30</td>\n",
       "      <td>329</td>\n",
       "    </tr>\n",
       "    <tr>\n",
       "      <th>2</th>\n",
       "      <td>2022-04-30</td>\n",
       "      <td>Shipped</td>\n",
       "      <td>Amazon</td>\n",
       "      <td>Expedited</td>\n",
       "      <td>JNE3671</td>\n",
       "      <td>Top</td>\n",
       "      <td>3XL</td>\n",
       "      <td>Shipped</td>\n",
       "      <td>1</td>\n",
       "      <td>574</td>\n",
       "      <td>CHENNAI</td>\n",
       "      <td>TAMIL NADU</td>\n",
       "      <td>600073</td>\n",
       "      <td>April</td>\n",
       "      <td>30</td>\n",
       "      <td>574</td>\n",
       "    </tr>\n",
       "    <tr>\n",
       "      <th>3</th>\n",
       "      <td>2022-04-30</td>\n",
       "      <td>Shipped</td>\n",
       "      <td>Amazon</td>\n",
       "      <td>Expedited</td>\n",
       "      <td>SET264</td>\n",
       "      <td>Set</td>\n",
       "      <td>XL</td>\n",
       "      <td>Shipped</td>\n",
       "      <td>1</td>\n",
       "      <td>824</td>\n",
       "      <td>GHAZIABAD</td>\n",
       "      <td>UTTAR PRADESH</td>\n",
       "      <td>201102</td>\n",
       "      <td>April</td>\n",
       "      <td>30</td>\n",
       "      <td>824</td>\n",
       "    </tr>\n",
       "    <tr>\n",
       "      <th>4</th>\n",
       "      <td>2022-04-30</td>\n",
       "      <td>Shipped</td>\n",
       "      <td>Amazon</td>\n",
       "      <td>Expedited</td>\n",
       "      <td>J0095</td>\n",
       "      <td>Set</td>\n",
       "      <td>L</td>\n",
       "      <td>Shipped</td>\n",
       "      <td>1</td>\n",
       "      <td>653</td>\n",
       "      <td>CHANDIGARH</td>\n",
       "      <td>CHANDIGARH</td>\n",
       "      <td>160036</td>\n",
       "      <td>April</td>\n",
       "      <td>30</td>\n",
       "      <td>653</td>\n",
       "    </tr>\n",
       "  </tbody>\n",
       "</table>\n",
       "</div>"
      ],
      "text/plain": [
       "        Date                   Ship_Status Fulfilment Service_Level    Style  \\\n",
       "0 2022-04-30  Shipped - Delivered to Buyer   Merchant      Standard  JNE3781   \n",
       "1 2022-04-30                       Shipped     Amazon     Expedited  JNE3371   \n",
       "2 2022-04-30                       Shipped     Amazon     Expedited  JNE3671   \n",
       "3 2022-04-30                       Shipped     Amazon     Expedited   SET264   \n",
       "4 2022-04-30                       Shipped     Amazon     Expedited    J0095   \n",
       "\n",
       "  Category Size Courier_Status  Quantity  Amount         City          State  \\\n",
       "0    kurta  3XL        Shipped         1     406    BENGALURU      KARNATAKA   \n",
       "1    kurta   XL        Shipped         1     329  NAVI MUMBAI    MAHARASHTRA   \n",
       "2      Top  3XL        Shipped         1     574      CHENNAI     TAMIL NADU   \n",
       "3      Set   XL        Shipped         1     824    GHAZIABAD  UTTAR PRADESH   \n",
       "4      Set    L        Shipped         1     653   CHANDIGARH     CHANDIGARH   \n",
       "\n",
       "  ship-postal-code  Month Day  Sales_Revenue  \n",
       "0           560085  April  30            406  \n",
       "1           410210  April  30            329  \n",
       "2           600073  April  30            574  \n",
       "3           201102  April  30            824  \n",
       "4           160036  April  30            653  "
      ]
     },
     "execution_count": 54,
     "metadata": {},
     "output_type": "execute_result"
    }
   ],
   "source": [
    "# make a copy\n",
    "\n",
    "ds=df.copy(deep=\"True\")\n",
    "ds.head()"
   ]
  },
  {
   "cell_type": "code",
   "execution_count": 55,
   "id": "7b810170",
   "metadata": {},
   "outputs": [
    {
     "data": {
      "text/plain": [
       "Date                datetime64[ns]\n",
       "Ship_Status                 object\n",
       "Fulfilment                  object\n",
       "Service_Level               object\n",
       "Style                       object\n",
       "Category                    object\n",
       "Size                        object\n",
       "Courier_Status              object\n",
       "Quantity                     int64\n",
       "Amount                       int64\n",
       "City                        object\n",
       "State                       object\n",
       "ship-postal-code            object\n",
       "Month                       object\n",
       "Day                         object\n",
       "Sales_Revenue                int64\n",
       "dtype: object"
      ]
     },
     "execution_count": 55,
     "metadata": {},
     "output_type": "execute_result"
    }
   ],
   "source": [
    "ds.dtypes"
   ]
  },
  {
   "cell_type": "code",
   "execution_count": 56,
   "id": "3efb9cb7",
   "metadata": {},
   "outputs": [
    {
     "data": {
      "text/html": [
       "<div>\n",
       "<style scoped>\n",
       "    .dataframe tbody tr th:only-of-type {\n",
       "        vertical-align: middle;\n",
       "    }\n",
       "\n",
       "    .dataframe tbody tr th {\n",
       "        vertical-align: top;\n",
       "    }\n",
       "\n",
       "    .dataframe thead th {\n",
       "        text-align: right;\n",
       "    }\n",
       "</style>\n",
       "<table border=\"1\" class=\"dataframe\">\n",
       "  <thead>\n",
       "    <tr style=\"text-align: right;\">\n",
       "      <th></th>\n",
       "      <th>Quantity</th>\n",
       "      <th>Amount</th>\n",
       "      <th>Sales_Revenue</th>\n",
       "    </tr>\n",
       "  </thead>\n",
       "  <tbody>\n",
       "    <tr>\n",
       "      <th>count</th>\n",
       "      <td>113053.000000</td>\n",
       "      <td>113053.000000</td>\n",
       "      <td>113053.000000</td>\n",
       "    </tr>\n",
       "    <tr>\n",
       "      <th>mean</th>\n",
       "      <td>1.003857</td>\n",
       "      <td>663.160863</td>\n",
       "      <td>668.730923</td>\n",
       "    </tr>\n",
       "    <tr>\n",
       "      <th>std</th>\n",
       "      <td>0.073475</td>\n",
       "      <td>269.576153</td>\n",
       "      <td>342.013967</td>\n",
       "    </tr>\n",
       "    <tr>\n",
       "      <th>min</th>\n",
       "      <td>1.000000</td>\n",
       "      <td>199.000000</td>\n",
       "      <td>199.000000</td>\n",
       "    </tr>\n",
       "    <tr>\n",
       "      <th>25%</th>\n",
       "      <td>1.000000</td>\n",
       "      <td>459.000000</td>\n",
       "      <td>459.000000</td>\n",
       "    </tr>\n",
       "    <tr>\n",
       "      <th>50%</th>\n",
       "      <td>1.000000</td>\n",
       "      <td>625.000000</td>\n",
       "      <td>625.000000</td>\n",
       "    </tr>\n",
       "    <tr>\n",
       "      <th>75%</th>\n",
       "      <td>1.000000</td>\n",
       "      <td>788.000000</td>\n",
       "      <td>788.000000</td>\n",
       "    </tr>\n",
       "    <tr>\n",
       "      <th>max</th>\n",
       "      <td>8.000000</td>\n",
       "      <td>5584.000000</td>\n",
       "      <td>44672.000000</td>\n",
       "    </tr>\n",
       "  </tbody>\n",
       "</table>\n",
       "</div>"
      ],
      "text/plain": [
       "            Quantity         Amount  Sales_Revenue\n",
       "count  113053.000000  113053.000000  113053.000000\n",
       "mean        1.003857     663.160863     668.730923\n",
       "std         0.073475     269.576153     342.013967\n",
       "min         1.000000     199.000000     199.000000\n",
       "25%         1.000000     459.000000     459.000000\n",
       "50%         1.000000     625.000000     625.000000\n",
       "75%         1.000000     788.000000     788.000000\n",
       "max         8.000000    5584.000000   44672.000000"
      ]
     },
     "execution_count": 56,
     "metadata": {},
     "output_type": "execute_result"
    }
   ],
   "source": [
    "ds.describe() "
   ]
  },
  {
   "cell_type": "code",
   "execution_count": 57,
   "id": "46c1611a",
   "metadata": {},
   "outputs": [
    {
     "data": {
      "text/html": [
       "<div>\n",
       "<style scoped>\n",
       "    .dataframe tbody tr th:only-of-type {\n",
       "        vertical-align: middle;\n",
       "    }\n",
       "\n",
       "    .dataframe tbody tr th {\n",
       "        vertical-align: top;\n",
       "    }\n",
       "\n",
       "    .dataframe thead th {\n",
       "        text-align: right;\n",
       "    }\n",
       "</style>\n",
       "<table border=\"1\" class=\"dataframe\">\n",
       "  <thead>\n",
       "    <tr style=\"text-align: right;\">\n",
       "      <th></th>\n",
       "      <th>Quantity</th>\n",
       "      <th>Amount</th>\n",
       "      <th>Sales_Revenue</th>\n",
       "    </tr>\n",
       "  </thead>\n",
       "  <tbody>\n",
       "    <tr>\n",
       "      <th>Quantity</th>\n",
       "      <td>1.000000</td>\n",
       "      <td>0.152094</td>\n",
       "      <td>0.528719</td>\n",
       "    </tr>\n",
       "    <tr>\n",
       "      <th>Amount</th>\n",
       "      <td>0.152094</td>\n",
       "      <td>1.000000</td>\n",
       "      <td>0.865908</td>\n",
       "    </tr>\n",
       "    <tr>\n",
       "      <th>Sales_Revenue</th>\n",
       "      <td>0.528719</td>\n",
       "      <td>0.865908</td>\n",
       "      <td>1.000000</td>\n",
       "    </tr>\n",
       "  </tbody>\n",
       "</table>\n",
       "</div>"
      ],
      "text/plain": [
       "               Quantity    Amount  Sales_Revenue\n",
       "Quantity       1.000000  0.152094       0.528719\n",
       "Amount         0.152094  1.000000       0.865908\n",
       "Sales_Revenue  0.528719  0.865908       1.000000"
      ]
     },
     "execution_count": 57,
     "metadata": {},
     "output_type": "execute_result"
    }
   ],
   "source": [
    "ds.corr()"
   ]
  },
  {
   "cell_type": "code",
   "execution_count": 58,
   "id": "cdcce724",
   "metadata": {},
   "outputs": [
    {
     "data": {
      "image/png": "[encoded data removed]",
      "text/plain": [
       "<Figure size 800x400 with 2 Axes>"
      ]
     },
     "metadata": {},
     "output_type": "display_data"
    }
   ],
   "source": [
    "plt.figure(figsize=(8,4))\n",
    "sns.heatmap(ds.corr(), annot=True, cmap=\"Purples\", linewidths=0.006, linecolor=\"Black\")\n",
    "plt.title(\"Features Correlation\",fontsize=25, pad=20)\n",
    "plt.xticks(fontsize=9, rotation=55)\n",
    "plt.yticks(fontsize=9);"
   ]
  },
  {
   "cell_type": "code",
   "execution_count": 61,
   "id": "78e0ba52",
   "metadata": {},
   "outputs": [
    {
     "data": {
      "text/plain": [
       "Sales_Revenue    1.000000\n",
       "Amount           0.865908\n",
       "Quantity         0.528719\n",
       "Name: Sales_Revenue, dtype: float64"
      ]
     },
     "execution_count": 61,
     "metadata": {},
     "output_type": "execute_result"
    }
   ],
   "source": [
    "df.corr()['Sales_Revenue'].sort_values(ascending=False)"
   ]
  },
  {
   "cell_type": "code",
   "execution_count": 59,
   "id": "c72927cc",
   "metadata": {},
   "outputs": [
    {
     "name": "stdout",
     "output_type": "stream",
     "text": [
      "Set              43805\n",
      "kurta            43636\n",
      "Western Dress    13606\n",
      "Top               9645\n",
      "Ethnic Dress      1017\n",
      "Blouse             813\n",
      "Bottom             381\n",
      "Saree              147\n",
      "Dupatta              3\n",
      "Name: Category, dtype: int64\n"
     ]
    },
    {
     "data": {
      "image/png": "[encoded data removed]",
      "text/plain": [
       "<Figure size 1000x600 with 1 Axes>"
      ]
     },
     "metadata": {},
     "output_type": "display_data"
    }
   ],
   "source": [
    "print(df['Category'].value_counts())\n",
    "plt.figure(figsize = (10,6))\n",
    "plt.title(\"Count of Category \",color=\"black\",size=18)\n",
    "plt.xticks(fontsize=9,rotation =60,weight = 'bold')\n",
    "plt.yticks(fontsize=9,weight = 'bold')\n",
    "ax = sns.countplot(data = df, x = 'Category', palette=\"tab10\" )\n",
    "plt.show()"
   ]
  },
  {
   "cell_type": "code",
   "execution_count": 60,
   "id": "bf0f75b1",
   "metadata": {},
   "outputs": [
    {
     "name": "stdout",
     "output_type": "stream",
     "text": [
      "Amazon      81519\n",
      "Merchant    31534\n",
      "Name: Fulfilment, dtype: int64\n",
      "Shipped      106859\n",
      "Unshipped      6194\n",
      "Name: Courier_Status, dtype: int64\n"
     ]
    },
    {
     "data": {
      "text/plain": [
       "<AxesSubplot:xlabel='Courier_Status', ylabel='count'>"
      ]
     },
     "execution_count": 60,
     "metadata": {},
     "output_type": "execute_result"
    },
    {
     "data": {
      "image/png": "[encoded data removed]",
      "text/plain": [
       "<Figure size 1200x600 with 1 Axes>"
      ]
     },
     "metadata": {},
     "output_type": "display_data"
    }
   ],
   "source": [
    "print(df['Fulfilment'].value_counts())\n",
    "print(df['Courier_Status'].value_counts())\n",
    "plt.figure(figsize = (12, 6))\n",
    "sns.countplot(x = 'Courier_Status', hue = 'Fulfilment', data = df)"
   ]
  },
  {
   "cell_type": "code",
   "execution_count": 63,
   "id": "926c5cf9",
   "metadata": {},
   "outputs": [],
   "source": [
    "# Importing library for labelencode\n",
    "\n",
    "from sklearn import preprocessing\n",
    "le=preprocessing.LabelEncoder()"
   ]
  },
  {
   "cell_type": "code",
   "execution_count": 64,
   "id": "6097531f",
   "metadata": {},
   "outputs": [
    {
     "data": {
      "text/plain": [
       "array(['kurta', 'Top', 'Set', 'Western Dress', 'Ethnic Dress', 'Bottom',\n",
       "       'Saree', 'Blouse', 'Dupatta'], dtype=object)"
      ]
     },
     "execution_count": 64,
     "metadata": {},
     "output_type": "execute_result"
    }
   ],
   "source": [
    "# LableEncoder based on lable\n",
    "\n",
    "ds['Category'].unique()"
   ]
  },
  {
   "cell_type": "code",
   "execution_count": 65,
   "id": "3e0dc629",
   "metadata": {},
   "outputs": [
    {
     "data": {
      "text/plain": [
       "array([8, 6, 5, 7, 3, 1, 4, 0, 2])"
      ]
     },
     "execution_count": 65,
     "metadata": {},
     "output_type": "execute_result"
    }
   ],
   "source": [
    "ds['Category']=le.fit_transform(ds['Category'])\n",
    "ds['Category'].unique()"
   ]
  },
  {
   "cell_type": "code",
   "execution_count": 66,
   "id": "0865b13c",
   "metadata": {},
   "outputs": [
    {
     "data": {
      "text/plain": [
       "array(['Shipped - Delivered to Buyer', 'Shipped', 'Cancelled',\n",
       "       'Shipped - Returned to Seller', 'Shipped - Rejected by Buyer',\n",
       "       'Shipped - Out for Delivery', 'Shipped - Returning to Seller',\n",
       "       'Shipped - Picked Up', 'Pending', 'Shipped - Lost in Transit',\n",
       "       'Pending - Waiting for Pick Up', 'Shipped - Damaged'], dtype=object)"
      ]
     },
     "execution_count": 66,
     "metadata": {},
     "output_type": "execute_result"
    }
   ],
   "source": [
    "ds['Ship_Status'].unique()"
   ]
  },
  {
   "cell_type": "code",
   "execution_count": 67,
   "id": "dbabf239",
   "metadata": {},
   "outputs": [
    {
     "data": {
      "text/plain": [
       "array([ 5,  3,  0, 10,  9,  7, 11,  8,  1,  6,  2,  4])"
      ]
     },
     "execution_count": 67,
     "metadata": {},
     "output_type": "execute_result"
    }
   ],
   "source": [
    "ds['Ship_Status']=le.fit_transform(ds['Ship_Status'])\n",
    "ds['Ship_Status'].unique()"
   ]
  },
  {
   "cell_type": "code",
   "execution_count": 68,
   "id": "17dae9bb",
   "metadata": {},
   "outputs": [
    {
     "data": {
      "text/plain": [
       "array(['Merchant', 'Amazon'], dtype=object)"
      ]
     },
     "execution_count": 68,
     "metadata": {},
     "output_type": "execute_result"
    }
   ],
   "source": [
    "ds['Fulfilment'].unique()"
   ]
  },
  {
   "cell_type": "code",
   "execution_count": 69,
   "id": "ef8e2e9e",
   "metadata": {},
   "outputs": [
    {
     "data": {
      "text/plain": [
       "array([1, 0])"
      ]
     },
     "execution_count": 69,
     "metadata": {},
     "output_type": "execute_result"
    }
   ],
   "source": [
    "ds['Fulfilment']=le.fit_transform(ds['Fulfilment'])\n",
    "ds['Fulfilment'].unique()"
   ]
  },
  {
   "cell_type": "code",
   "execution_count": 70,
   "id": "99404255",
   "metadata": {},
   "outputs": [
    {
     "data": {
      "text/plain": [
       "array(['Standard', 'Expedited'], dtype=object)"
      ]
     },
     "execution_count": 70,
     "metadata": {},
     "output_type": "execute_result"
    }
   ],
   "source": [
    "ds['Service_Level'].unique()"
   ]
  },
  {
   "cell_type": "code",
   "execution_count": 71,
   "id": "83b93449",
   "metadata": {},
   "outputs": [
    {
     "data": {
      "text/plain": [
       "array([1, 0])"
      ]
     },
     "execution_count": 71,
     "metadata": {},
     "output_type": "execute_result"
    }
   ],
   "source": [
    "ds['Service_Level']=le.fit_transform(ds['Service_Level'])\n",
    "ds['Service_Level'].unique()"
   ]
  },
  {
   "cell_type": "code",
   "execution_count": 72,
   "id": "6552d075",
   "metadata": {},
   "outputs": [
    {
     "data": {
      "text/plain": [
       "array(['Shipped', 'Unshipped'], dtype=object)"
      ]
     },
     "execution_count": 72,
     "metadata": {},
     "output_type": "execute_result"
    }
   ],
   "source": [
    "ds['Courier_Status'].unique()"
   ]
  },
  {
   "cell_type": "code",
   "execution_count": 73,
   "id": "856edb92",
   "metadata": {},
   "outputs": [
    {
     "data": {
      "text/plain": [
       "array([0, 1])"
      ]
     },
     "execution_count": 73,
     "metadata": {},
     "output_type": "execute_result"
    }
   ],
   "source": [
    "ds['Courier_Status']=le.fit_transform(ds['Courier_Status'])\n",
    "ds['Courier_Status'].unique()"
   ]
  },
  {
   "cell_type": "code",
   "execution_count": 74,
   "id": "a9c8054a",
   "metadata": {},
   "outputs": [
    {
     "data": {
      "text/plain": [
       "array([1, 2, 3, 5, 4, 8], dtype=int64)"
      ]
     },
     "execution_count": 74,
     "metadata": {},
     "output_type": "execute_result"
    }
   ],
   "source": [
    "ds['Quantity'].unique()"
   ]
  },
  {
   "cell_type": "code",
   "execution_count": 75,
   "id": "120822e9",
   "metadata": {},
   "outputs": [
    {
     "data": {
      "text/html": [
       "<div>\n",
       "<style scoped>\n",
       "    .dataframe tbody tr th:only-of-type {\n",
       "        vertical-align: middle;\n",
       "    }\n",
       "\n",
       "    .dataframe tbody tr th {\n",
       "        vertical-align: top;\n",
       "    }\n",
       "\n",
       "    .dataframe thead th {\n",
       "        text-align: right;\n",
       "    }\n",
       "</style>\n",
       "<table border=\"1\" class=\"dataframe\">\n",
       "  <thead>\n",
       "    <tr style=\"text-align: right;\">\n",
       "      <th></th>\n",
       "      <th>Date</th>\n",
       "      <th>Ship_Status</th>\n",
       "      <th>Fulfilment</th>\n",
       "      <th>Service_Level</th>\n",
       "      <th>Style</th>\n",
       "      <th>Category</th>\n",
       "      <th>Size</th>\n",
       "      <th>Courier_Status</th>\n",
       "      <th>Quantity</th>\n",
       "      <th>Amount</th>\n",
       "      <th>City</th>\n",
       "      <th>State</th>\n",
       "      <th>ship-postal-code</th>\n",
       "      <th>Month</th>\n",
       "      <th>Day</th>\n",
       "      <th>Sales_Revenue</th>\n",
       "    </tr>\n",
       "  </thead>\n",
       "  <tbody>\n",
       "    <tr>\n",
       "      <th>0</th>\n",
       "      <td>2022-04-30</td>\n",
       "      <td>5</td>\n",
       "      <td>1</td>\n",
       "      <td>1</td>\n",
       "      <td>JNE3781</td>\n",
       "      <td>8</td>\n",
       "      <td>3XL</td>\n",
       "      <td>0</td>\n",
       "      <td>1</td>\n",
       "      <td>406</td>\n",
       "      <td>BENGALURU</td>\n",
       "      <td>KARNATAKA</td>\n",
       "      <td>560085</td>\n",
       "      <td>April</td>\n",
       "      <td>30</td>\n",
       "      <td>406</td>\n",
       "    </tr>\n",
       "    <tr>\n",
       "      <th>1</th>\n",
       "      <td>2022-04-30</td>\n",
       "      <td>3</td>\n",
       "      <td>0</td>\n",
       "      <td>0</td>\n",
       "      <td>JNE3371</td>\n",
       "      <td>8</td>\n",
       "      <td>XL</td>\n",
       "      <td>0</td>\n",
       "      <td>1</td>\n",
       "      <td>329</td>\n",
       "      <td>NAVI MUMBAI</td>\n",
       "      <td>MAHARASHTRA</td>\n",
       "      <td>410210</td>\n",
       "      <td>April</td>\n",
       "      <td>30</td>\n",
       "      <td>329</td>\n",
       "    </tr>\n",
       "    <tr>\n",
       "      <th>2</th>\n",
       "      <td>2022-04-30</td>\n",
       "      <td>3</td>\n",
       "      <td>0</td>\n",
       "      <td>0</td>\n",
       "      <td>JNE3671</td>\n",
       "      <td>6</td>\n",
       "      <td>3XL</td>\n",
       "      <td>0</td>\n",
       "      <td>1</td>\n",
       "      <td>574</td>\n",
       "      <td>CHENNAI</td>\n",
       "      <td>TAMIL NADU</td>\n",
       "      <td>600073</td>\n",
       "      <td>April</td>\n",
       "      <td>30</td>\n",
       "      <td>574</td>\n",
       "    </tr>\n",
       "    <tr>\n",
       "      <th>3</th>\n",
       "      <td>2022-04-30</td>\n",
       "      <td>3</td>\n",
       "      <td>0</td>\n",
       "      <td>0</td>\n",
       "      <td>SET264</td>\n",
       "      <td>5</td>\n",
       "      <td>XL</td>\n",
       "      <td>0</td>\n",
       "      <td>1</td>\n",
       "      <td>824</td>\n",
       "      <td>GHAZIABAD</td>\n",
       "      <td>UTTAR PRADESH</td>\n",
       "      <td>201102</td>\n",
       "      <td>April</td>\n",
       "      <td>30</td>\n",
       "      <td>824</td>\n",
       "    </tr>\n",
       "    <tr>\n",
       "      <th>4</th>\n",
       "      <td>2022-04-30</td>\n",
       "      <td>3</td>\n",
       "      <td>0</td>\n",
       "      <td>0</td>\n",
       "      <td>J0095</td>\n",
       "      <td>5</td>\n",
       "      <td>L</td>\n",
       "      <td>0</td>\n",
       "      <td>1</td>\n",
       "      <td>653</td>\n",
       "      <td>CHANDIGARH</td>\n",
       "      <td>CHANDIGARH</td>\n",
       "      <td>160036</td>\n",
       "      <td>April</td>\n",
       "      <td>30</td>\n",
       "      <td>653</td>\n",
       "    </tr>\n",
       "  </tbody>\n",
       "</table>\n",
       "</div>"
      ],
      "text/plain": [
       "        Date  Ship_Status  Fulfilment  Service_Level    Style  Category Size  \\\n",
       "0 2022-04-30            5           1              1  JNE3781         8  3XL   \n",
       "1 2022-04-30            3           0              0  JNE3371         8   XL   \n",
       "2 2022-04-30            3           0              0  JNE3671         6  3XL   \n",
       "3 2022-04-30            3           0              0   SET264         5   XL   \n",
       "4 2022-04-30            3           0              0    J0095         5    L   \n",
       "\n",
       "   Courier_Status  Quantity  Amount         City          State  \\\n",
       "0               0         1     406    BENGALURU      KARNATAKA   \n",
       "1               0         1     329  NAVI MUMBAI    MAHARASHTRA   \n",
       "2               0         1     574      CHENNAI     TAMIL NADU   \n",
       "3               0         1     824    GHAZIABAD  UTTAR PRADESH   \n",
       "4               0         1     653   CHANDIGARH     CHANDIGARH   \n",
       "\n",
       "  ship-postal-code  Month Day  Sales_Revenue  \n",
       "0           560085  April  30            406  \n",
       "1           410210  April  30            329  \n",
       "2           600073  April  30            574  \n",
       "3           201102  April  30            824  \n",
       "4           160036  April  30            653  "
      ]
     },
     "execution_count": 75,
     "metadata": {},
     "output_type": "execute_result"
    }
   ],
   "source": [
    "ds.head()"
   ]
  },
  {
   "cell_type": "markdown",
   "id": "162e92f2",
   "metadata": {},
   "source": [
    "# Modeling"
   ]
  },
  {
   "cell_type": "code",
   "execution_count": 76,
   "id": "300273e8",
   "metadata": {},
   "outputs": [],
   "source": [
    "# Importing librarys for classification algorithms \n",
    "\n",
    "from sklearn.tree import DecisionTreeClassifier as dsc\n",
    "from sklearn.model_selection import train_test_split\n",
    "from sklearn import metrics"
   ]
  },
  {
   "cell_type": "code",
   "execution_count": 77,
   "id": "658708e1",
   "metadata": {},
   "outputs": [
    {
     "data": {
      "text/plain": [
       "0    5\n",
       "1    3\n",
       "2    3\n",
       "3    3\n",
       "4    3\n",
       "Name: Ship_Status, dtype: int32"
      ]
     },
     "execution_count": 77,
     "metadata": {},
     "output_type": "execute_result"
    }
   ],
   "source": [
    "# x input\n",
    "\n",
    "feature_cols=['Category','Quantity','Courier_Status','Fulfilment','Service_Level']\n",
    "x=ds[feature_cols]\n",
    "x.head()\n",
    "\n",
    "# y output\n",
    "\n",
    "y=ds['Ship_Status']\n",
    "y.head()"
   ]
  },
  {
   "cell_type": "code",
   "execution_count": 78,
   "id": "ae94a6ff",
   "metadata": {},
   "outputs": [
    {
     "name": "stdout",
     "output_type": "stream",
     "text": [
      "(90442, 5)\n",
      "(90442,)\n",
      "(22611, 5)\n",
      "(22611,)\n"
     ]
    }
   ],
   "source": [
    "# Splitting train and test\n",
    "\n",
    "x_train, x_test, y_train, y_test = train_test_split(x,y,test_size=0.20,random_state=43)\n",
    "print(x_train.shape)\n",
    "print(y_train.shape)\n",
    "print(x_test.shape)\n",
    "print(y_test.shape)"
   ]
  },
  {
   "cell_type": "code",
   "execution_count": 79,
   "id": "e4e086ec",
   "metadata": {},
   "outputs": [
    {
     "data": {
      "text/plain": [
       "DecisionTreeClassifier(max_leaf_nodes=80, random_state=43)"
      ]
     },
     "execution_count": 79,
     "metadata": {},
     "output_type": "execute_result"
    }
   ],
   "source": [
    "classifier=dsc(max_leaf_nodes=80, random_state=43)\n",
    "classifier.fit(x_train,y_train)"
   ]
  },
  {
   "cell_type": "code",
   "execution_count": 80,
   "id": "f723d538",
   "metadata": {},
   "outputs": [
    {
     "name": "stdout",
     "output_type": "stream",
     "text": [
      "[5 3 3 ... 3 3 3]\n"
     ]
    }
   ],
   "source": [
    "y_predict=classifier.predict(x_test)\n",
    "print(y_predict)"
   ]
  },
  {
   "cell_type": "code",
   "execution_count": 81,
   "id": "a5ea1d5e",
   "metadata": {},
   "outputs": [
    {
     "data": {
      "text/html": [
       "<div>\n",
       "<style scoped>\n",
       "    .dataframe tbody tr th:only-of-type {\n",
       "        vertical-align: middle;\n",
       "    }\n",
       "\n",
       "    .dataframe tbody tr th {\n",
       "        vertical-align: top;\n",
       "    }\n",
       "\n",
       "    .dataframe thead th {\n",
       "        text-align: right;\n",
       "    }\n",
       "</style>\n",
       "<table border=\"1\" class=\"dataframe\">\n",
       "  <thead>\n",
       "    <tr style=\"text-align: right;\">\n",
       "      <th></th>\n",
       "      <th>Predicted</th>\n",
       "    </tr>\n",
       "    <tr>\n",
       "      <th>Actual</th>\n",
       "      <th></th>\n",
       "    </tr>\n",
       "  </thead>\n",
       "  <tbody>\n",
       "    <tr>\n",
       "      <th>5</th>\n",
       "      <td>5</td>\n",
       "    </tr>\n",
       "    <tr>\n",
       "      <th>3</th>\n",
       "      <td>3</td>\n",
       "    </tr>\n",
       "    <tr>\n",
       "      <th>3</th>\n",
       "      <td>3</td>\n",
       "    </tr>\n",
       "    <tr>\n",
       "      <th>5</th>\n",
       "      <td>5</td>\n",
       "    </tr>\n",
       "    <tr>\n",
       "      <th>3</th>\n",
       "      <td>3</td>\n",
       "    </tr>\n",
       "    <tr>\n",
       "      <th>...</th>\n",
       "      <td>...</td>\n",
       "    </tr>\n",
       "    <tr>\n",
       "      <th>3</th>\n",
       "      <td>3</td>\n",
       "    </tr>\n",
       "    <tr>\n",
       "      <th>3</th>\n",
       "      <td>3</td>\n",
       "    </tr>\n",
       "    <tr>\n",
       "      <th>3</th>\n",
       "      <td>3</td>\n",
       "    </tr>\n",
       "    <tr>\n",
       "      <th>3</th>\n",
       "      <td>3</td>\n",
       "    </tr>\n",
       "    <tr>\n",
       "      <th>3</th>\n",
       "      <td>3</td>\n",
       "    </tr>\n",
       "  </tbody>\n",
       "</table>\n",
       "<p>22611 rows × 1 columns</p>\n",
       "</div>"
      ],
      "text/plain": [
       "        Predicted \n",
       "Actual            \n",
       "5                5\n",
       "3                3\n",
       "3                3\n",
       "5                5\n",
       "3                3\n",
       "...            ...\n",
       "3                3\n",
       "3                3\n",
       "3                3\n",
       "3                3\n",
       "3                3\n",
       "\n",
       "[22611 rows x 1 columns]"
      ]
     },
     "execution_count": 81,
     "metadata": {},
     "output_type": "execute_result"
    }
   ],
   "source": [
    "dfr=pd.DataFrame({'Actual':y_test, 'Predicted ':y_predict})\n",
    "dfr=dfr.set_index(\"Actual\")\n",
    "dfr"
   ]
  },
  {
   "cell_type": "code",
   "execution_count": 82,
   "id": "1ffd2d0d",
   "metadata": {},
   "outputs": [
    {
     "name": "stdout",
     "output_type": "stream",
     "text": [
      "Accuracy: 96.8068639157932\n"
     ]
    }
   ],
   "source": [
    "print(\"Accuracy:\", metrics.accuracy_score(y_test,y_predict)*100)"
   ]
  },
  {
   "cell_type": "code",
   "execution_count": 83,
   "id": "fb316509",
   "metadata": {},
   "outputs": [],
   "source": [
    "# Importing lib for randomforest\n",
    "\n",
    "from sklearn.ensemble import RandomForestClassifier as rfc"
   ]
  },
  {
   "cell_type": "code",
   "execution_count": 84,
   "id": "aeb7f3a5",
   "metadata": {},
   "outputs": [],
   "source": [
    "x_train, x_test, y_train, y_test = train_test_split(x,y,test_size=0.20,random_state=43)"
   ]
  },
  {
   "cell_type": "code",
   "execution_count": 85,
   "id": "563a9cc9",
   "metadata": {},
   "outputs": [],
   "source": [
    "rfc=rfc(n_estimators=100)"
   ]
  },
  {
   "cell_type": "code",
   "execution_count": 86,
   "id": "6000405b",
   "metadata": {},
   "outputs": [],
   "source": [
    "rfc=rfc.fit(x_train, y_train)"
   ]
  },
  {
   "cell_type": "code",
   "execution_count": 87,
   "id": "0e5a70cd",
   "metadata": {},
   "outputs": [
    {
     "name": "stdout",
     "output_type": "stream",
     "text": [
      "[5 3 3 ... 3 3 3]\n"
     ]
    }
   ],
   "source": [
    "y_predicted=rfc.predict(x_test)\n",
    "print(y_predicted)"
   ]
  },
  {
   "cell_type": "code",
   "execution_count": 88,
   "id": "bb16b94c",
   "metadata": {},
   "outputs": [
    {
     "name": "stdout",
     "output_type": "stream",
     "text": [
      "Accuracy: 96.80244128963778\n"
     ]
    }
   ],
   "source": [
    "print(\"Accuracy:\", metrics.accuracy_score(y_test,y_predicted)*100)"
   ]
  },
  {
   "cell_type": "code",
   "execution_count": 89,
   "id": "9ae6a5dc",
   "metadata": {},
   "outputs": [],
   "source": [
    "# Importing library Support Vector Machine\n",
    "\n",
    "from sklearn.svm import SVC"
   ]
  },
  {
   "cell_type": "code",
   "execution_count": 90,
   "id": "8dba82ad",
   "metadata": {},
   "outputs": [],
   "source": [
    "x_train, x_test, y_train, y_test = train_test_split(x,y,test_size=0.20,random_state=123)"
   ]
  },
  {
   "cell_type": "code",
   "execution_count": 91,
   "id": "4d9ba76e",
   "metadata": {},
   "outputs": [],
   "source": [
    "clf=SVC( kernel = 'linear', C=1, random_state=1)"
   ]
  },
  {
   "cell_type": "code",
   "execution_count": 92,
   "id": "39189c65",
   "metadata": {},
   "outputs": [
    {
     "data": {
      "text/plain": [
       "SVC(C=1, kernel='linear', random_state=1)"
      ]
     },
     "execution_count": 92,
     "metadata": {},
     "output_type": "execute_result"
    }
   ],
   "source": [
    "clf.fit(x_train, y_train)"
   ]
  },
  {
   "cell_type": "code",
   "execution_count": 93,
   "id": "2a79601d",
   "metadata": {},
   "outputs": [
    {
     "name": "stdout",
     "output_type": "stream",
     "text": [
      "Accuracy: 96.82897704657026\n"
     ]
    }
   ],
   "source": [
    "y_pred=clf.predict(x_test)\n",
    "print(\"Accuracy:\", metrics.accuracy_score(y_test, y_pred)*100)"
   ]
  },
  {
   "cell_type": "code",
   "execution_count": null,
   "id": "c2c40615",
   "metadata": {},
   "outputs": [],
   "source": []
  },
  {
   "cell_type": "markdown",
   "id": "ecddb34b",
   "metadata": {},
   "source": [
    "# Deployment"
   ]
  },
  {
   "cell_type": "code",
   "execution_count": null,
   "id": "58417e7d",
   "metadata": {},
   "outputs": [],
   "source": []
  },
  {
   "cell_type": "code",
   "execution_count": 94,
   "id": "092454ad",
   "metadata": {},
   "outputs": [
    {
     "name": "stdout",
     "output_type": "stream",
     "text": [
      "[25200679.0, 24294679.0, 23987241.666666668]\n"
     ]
    }
   ],
   "source": [
    "# simple moving averages \n",
    "\n",
    "arr = [27724979,25216991,22660067,25006979,24294679]\n",
    "window_size = 3\n",
    "numbers_series = pd.Series(arr)\n",
    "windows = numbers_series.rolling(window_size)\n",
    "moving_averages = windows.mean()\n",
    "moving_averages_list = moving_averages.tolist()\n",
    "final_list = moving_averages_list[window_size - 1:]\n",
    "\n",
    "print(final_list)\n"
   ]
  },
  {
   "cell_type": "code",
   "execution_count": null,
   "id": "1afe4b77",
   "metadata": {},
   "outputs": [],
   "source": []
  }
 ],
 "metadata": {
  "kernelspec": {
   "display_name": "Python 3 (ipykernel)",
   "language": "python",
   "name": "python3"
  },
  "language_info": {
   "codemirror_mode": {
    "name": "ipython",
    "version": 3
   },
   "file_extension": ".py",
   "mimetype": "text/x-python",
   "name": "python",
   "nbconvert_exporter": "python",
   "pygments_lexer": "ipython3",
   "version": "3.9.13"
  }
 },
 "nbformat": 4,
 "nbformat_minor": 5
}
